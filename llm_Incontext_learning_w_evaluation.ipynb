{
  "nbformat": 4,
  "nbformat_minor": 0,
  "metadata": {
    "colab": {
      "provenance": [],
      "authorship_tag": "ABX9TyMSeQY5bB2aUScHCa02YFVs",
      "include_colab_link": true
    },
    "kernelspec": {
      "name": "python3",
      "display_name": "Python 3"
    },
    "language_info": {
      "name": "python"
    },
    "widgets": {
      "application/vnd.jupyter.widget-state+json": {
        "498c1969b8184cbb8bb4c95ecbd5faa1": {
          "model_module": "@jupyter-widgets/controls",
          "model_name": "HBoxModel",
          "model_module_version": "1.5.0",
          "state": {
            "_dom_classes": [],
            "_model_module": "@jupyter-widgets/controls",
            "_model_module_version": "1.5.0",
            "_model_name": "HBoxModel",
            "_view_count": null,
            "_view_module": "@jupyter-widgets/controls",
            "_view_module_version": "1.5.0",
            "_view_name": "HBoxView",
            "box_style": "",
            "children": [
              "IPY_MODEL_b8549eec00a2402aa9e7a174252b0081",
              "IPY_MODEL_f1d9f7b9cd0740d3b2c4077d248d5e75",
              "IPY_MODEL_c5e5ef3e361641a8b1fd6f25c0e632da"
            ],
            "layout": "IPY_MODEL_cd7a17512508465386a4d12b3fb6e27f"
          }
        },
        "b8549eec00a2402aa9e7a174252b0081": {
          "model_module": "@jupyter-widgets/controls",
          "model_name": "HTMLModel",
          "model_module_version": "1.5.0",
          "state": {
            "_dom_classes": [],
            "_model_module": "@jupyter-widgets/controls",
            "_model_module_version": "1.5.0",
            "_model_name": "HTMLModel",
            "_view_count": null,
            "_view_module": "@jupyter-widgets/controls",
            "_view_module_version": "1.5.0",
            "_view_name": "HTMLView",
            "description": "",
            "description_tooltip": null,
            "layout": "IPY_MODEL_5a9ad5f0d8524dcf928515246c604cf3",
            "placeholder": "​",
            "style": "IPY_MODEL_d418fae04457471495f2f8828dcdd8fd",
            "value": "Downloading readme: 100%"
          }
        },
        "f1d9f7b9cd0740d3b2c4077d248d5e75": {
          "model_module": "@jupyter-widgets/controls",
          "model_name": "FloatProgressModel",
          "model_module_version": "1.5.0",
          "state": {
            "_dom_classes": [],
            "_model_module": "@jupyter-widgets/controls",
            "_model_module_version": "1.5.0",
            "_model_name": "FloatProgressModel",
            "_view_count": null,
            "_view_module": "@jupyter-widgets/controls",
            "_view_module_version": "1.5.0",
            "_view_name": "ProgressView",
            "bar_style": "success",
            "description": "",
            "description_tooltip": null,
            "layout": "IPY_MODEL_a018dfe3b8c04bec874565baf6b90696",
            "max": 4254,
            "min": 0,
            "orientation": "horizontal",
            "style": "IPY_MODEL_bcacbfe8e4a447ab928bac3790dd1110",
            "value": 4254
          }
        },
        "c5e5ef3e361641a8b1fd6f25c0e632da": {
          "model_module": "@jupyter-widgets/controls",
          "model_name": "HTMLModel",
          "model_module_version": "1.5.0",
          "state": {
            "_dom_classes": [],
            "_model_module": "@jupyter-widgets/controls",
            "_model_module_version": "1.5.0",
            "_model_name": "HTMLModel",
            "_view_count": null,
            "_view_module": "@jupyter-widgets/controls",
            "_view_module_version": "1.5.0",
            "_view_name": "HTMLView",
            "description": "",
            "description_tooltip": null,
            "layout": "IPY_MODEL_d0683a98506d4a09abfb64685bdb27f3",
            "placeholder": "​",
            "style": "IPY_MODEL_e40f8381325e4afbb278e2dfe210b5a4",
            "value": " 4.25k/4.25k [00:00&lt;00:00, 234kB/s]"
          }
        },
        "cd7a17512508465386a4d12b3fb6e27f": {
          "model_module": "@jupyter-widgets/base",
          "model_name": "LayoutModel",
          "model_module_version": "1.2.0",
          "state": {
            "_model_module": "@jupyter-widgets/base",
            "_model_module_version": "1.2.0",
            "_model_name": "LayoutModel",
            "_view_count": null,
            "_view_module": "@jupyter-widgets/base",
            "_view_module_version": "1.2.0",
            "_view_name": "LayoutView",
            "align_content": null,
            "align_items": null,
            "align_self": null,
            "border": null,
            "bottom": null,
            "display": null,
            "flex": null,
            "flex_flow": null,
            "grid_area": null,
            "grid_auto_columns": null,
            "grid_auto_flow": null,
            "grid_auto_rows": null,
            "grid_column": null,
            "grid_gap": null,
            "grid_row": null,
            "grid_template_areas": null,
            "grid_template_columns": null,
            "grid_template_rows": null,
            "height": null,
            "justify_content": null,
            "justify_items": null,
            "left": null,
            "margin": null,
            "max_height": null,
            "max_width": null,
            "min_height": null,
            "min_width": null,
            "object_fit": null,
            "object_position": null,
            "order": null,
            "overflow": null,
            "overflow_x": null,
            "overflow_y": null,
            "padding": null,
            "right": null,
            "top": null,
            "visibility": null,
            "width": null
          }
        },
        "5a9ad5f0d8524dcf928515246c604cf3": {
          "model_module": "@jupyter-widgets/base",
          "model_name": "LayoutModel",
          "model_module_version": "1.2.0",
          "state": {
            "_model_module": "@jupyter-widgets/base",
            "_model_module_version": "1.2.0",
            "_model_name": "LayoutModel",
            "_view_count": null,
            "_view_module": "@jupyter-widgets/base",
            "_view_module_version": "1.2.0",
            "_view_name": "LayoutView",
            "align_content": null,
            "align_items": null,
            "align_self": null,
            "border": null,
            "bottom": null,
            "display": null,
            "flex": null,
            "flex_flow": null,
            "grid_area": null,
            "grid_auto_columns": null,
            "grid_auto_flow": null,
            "grid_auto_rows": null,
            "grid_column": null,
            "grid_gap": null,
            "grid_row": null,
            "grid_template_areas": null,
            "grid_template_columns": null,
            "grid_template_rows": null,
            "height": null,
            "justify_content": null,
            "justify_items": null,
            "left": null,
            "margin": null,
            "max_height": null,
            "max_width": null,
            "min_height": null,
            "min_width": null,
            "object_fit": null,
            "object_position": null,
            "order": null,
            "overflow": null,
            "overflow_x": null,
            "overflow_y": null,
            "padding": null,
            "right": null,
            "top": null,
            "visibility": null,
            "width": null
          }
        },
        "d418fae04457471495f2f8828dcdd8fd": {
          "model_module": "@jupyter-widgets/controls",
          "model_name": "DescriptionStyleModel",
          "model_module_version": "1.5.0",
          "state": {
            "_model_module": "@jupyter-widgets/controls",
            "_model_module_version": "1.5.0",
            "_model_name": "DescriptionStyleModel",
            "_view_count": null,
            "_view_module": "@jupyter-widgets/base",
            "_view_module_version": "1.2.0",
            "_view_name": "StyleView",
            "description_width": ""
          }
        },
        "a018dfe3b8c04bec874565baf6b90696": {
          "model_module": "@jupyter-widgets/base",
          "model_name": "LayoutModel",
          "model_module_version": "1.2.0",
          "state": {
            "_model_module": "@jupyter-widgets/base",
            "_model_module_version": "1.2.0",
            "_model_name": "LayoutModel",
            "_view_count": null,
            "_view_module": "@jupyter-widgets/base",
            "_view_module_version": "1.2.0",
            "_view_name": "LayoutView",
            "align_content": null,
            "align_items": null,
            "align_self": null,
            "border": null,
            "bottom": null,
            "display": null,
            "flex": null,
            "flex_flow": null,
            "grid_area": null,
            "grid_auto_columns": null,
            "grid_auto_flow": null,
            "grid_auto_rows": null,
            "grid_column": null,
            "grid_gap": null,
            "grid_row": null,
            "grid_template_areas": null,
            "grid_template_columns": null,
            "grid_template_rows": null,
            "height": null,
            "justify_content": null,
            "justify_items": null,
            "left": null,
            "margin": null,
            "max_height": null,
            "max_width": null,
            "min_height": null,
            "min_width": null,
            "object_fit": null,
            "object_position": null,
            "order": null,
            "overflow": null,
            "overflow_x": null,
            "overflow_y": null,
            "padding": null,
            "right": null,
            "top": null,
            "visibility": null,
            "width": null
          }
        },
        "bcacbfe8e4a447ab928bac3790dd1110": {
          "model_module": "@jupyter-widgets/controls",
          "model_name": "ProgressStyleModel",
          "model_module_version": "1.5.0",
          "state": {
            "_model_module": "@jupyter-widgets/controls",
            "_model_module_version": "1.5.0",
            "_model_name": "ProgressStyleModel",
            "_view_count": null,
            "_view_module": "@jupyter-widgets/base",
            "_view_module_version": "1.2.0",
            "_view_name": "StyleView",
            "bar_color": null,
            "description_width": ""
          }
        },
        "d0683a98506d4a09abfb64685bdb27f3": {
          "model_module": "@jupyter-widgets/base",
          "model_name": "LayoutModel",
          "model_module_version": "1.2.0",
          "state": {
            "_model_module": "@jupyter-widgets/base",
            "_model_module_version": "1.2.0",
            "_model_name": "LayoutModel",
            "_view_count": null,
            "_view_module": "@jupyter-widgets/base",
            "_view_module_version": "1.2.0",
            "_view_name": "LayoutView",
            "align_content": null,
            "align_items": null,
            "align_self": null,
            "border": null,
            "bottom": null,
            "display": null,
            "flex": null,
            "flex_flow": null,
            "grid_area": null,
            "grid_auto_columns": null,
            "grid_auto_flow": null,
            "grid_auto_rows": null,
            "grid_column": null,
            "grid_gap": null,
            "grid_row": null,
            "grid_template_areas": null,
            "grid_template_columns": null,
            "grid_template_rows": null,
            "height": null,
            "justify_content": null,
            "justify_items": null,
            "left": null,
            "margin": null,
            "max_height": null,
            "max_width": null,
            "min_height": null,
            "min_width": null,
            "object_fit": null,
            "object_position": null,
            "order": null,
            "overflow": null,
            "overflow_x": null,
            "overflow_y": null,
            "padding": null,
            "right": null,
            "top": null,
            "visibility": null,
            "width": null
          }
        },
        "e40f8381325e4afbb278e2dfe210b5a4": {
          "model_module": "@jupyter-widgets/controls",
          "model_name": "DescriptionStyleModel",
          "model_module_version": "1.5.0",
          "state": {
            "_model_module": "@jupyter-widgets/controls",
            "_model_module_version": "1.5.0",
            "_model_name": "DescriptionStyleModel",
            "_view_count": null,
            "_view_module": "@jupyter-widgets/base",
            "_view_module_version": "1.2.0",
            "_view_name": "StyleView",
            "description_width": ""
          }
        },
        "ddc9665802d84ffbb62e7c74034e166a": {
          "model_module": "@jupyter-widgets/controls",
          "model_name": "HBoxModel",
          "model_module_version": "1.5.0",
          "state": {
            "_dom_classes": [],
            "_model_module": "@jupyter-widgets/controls",
            "_model_module_version": "1.5.0",
            "_model_name": "HBoxModel",
            "_view_count": null,
            "_view_module": "@jupyter-widgets/controls",
            "_view_module_version": "1.5.0",
            "_view_name": "HBoxView",
            "box_style": "",
            "children": [
              "IPY_MODEL_30e7a9c6cce7494698402fca0e6baa43",
              "IPY_MODEL_829cd77390444f059cb22e496145823c",
              "IPY_MODEL_c4dea34c9b9b4ecfb446ce5ef4543f58"
            ],
            "layout": "IPY_MODEL_11097aa88e1e4be4810b1dd5c8615ded"
          }
        },
        "30e7a9c6cce7494698402fca0e6baa43": {
          "model_module": "@jupyter-widgets/controls",
          "model_name": "HTMLModel",
          "model_module_version": "1.5.0",
          "state": {
            "_dom_classes": [],
            "_model_module": "@jupyter-widgets/controls",
            "_model_module_version": "1.5.0",
            "_model_name": "HTMLModel",
            "_view_count": null,
            "_view_module": "@jupyter-widgets/controls",
            "_view_module_version": "1.5.0",
            "_view_name": "HTMLView",
            "description": "",
            "description_tooltip": null,
            "layout": "IPY_MODEL_b22aff22b5b24a559b79356b117c8712",
            "placeholder": "​",
            "style": "IPY_MODEL_54475d251c3a425a82df943266b59a74",
            "value": "Downloading data: 100%"
          }
        },
        "829cd77390444f059cb22e496145823c": {
          "model_module": "@jupyter-widgets/controls",
          "model_name": "FloatProgressModel",
          "model_module_version": "1.5.0",
          "state": {
            "_dom_classes": [],
            "_model_module": "@jupyter-widgets/controls",
            "_model_module_version": "1.5.0",
            "_model_name": "FloatProgressModel",
            "_view_count": null,
            "_view_module": "@jupyter-widgets/controls",
            "_view_module_version": "1.5.0",
            "_view_name": "ProgressView",
            "bar_style": "success",
            "description": "",
            "description_tooltip": null,
            "layout": "IPY_MODEL_f72e2507c6b641908980f3cf5f3d4f08",
            "max": 287241908,
            "min": 0,
            "orientation": "horizontal",
            "style": "IPY_MODEL_56703639a7a74e0d885aa1a4f1e80ab1",
            "value": 287241908
          }
        },
        "c4dea34c9b9b4ecfb446ce5ef4543f58": {
          "model_module": "@jupyter-widgets/controls",
          "model_name": "HTMLModel",
          "model_module_version": "1.5.0",
          "state": {
            "_dom_classes": [],
            "_model_module": "@jupyter-widgets/controls",
            "_model_module_version": "1.5.0",
            "_model_name": "HTMLModel",
            "_view_count": null,
            "_view_module": "@jupyter-widgets/controls",
            "_view_module_version": "1.5.0",
            "_view_name": "HTMLView",
            "description": "",
            "description_tooltip": null,
            "layout": "IPY_MODEL_a6e8c0a0d77f496ba7451dd9f36c10e1",
            "placeholder": "​",
            "style": "IPY_MODEL_8ee3ce1ec16d40d287abc4a19b39ebef",
            "value": " 287M/287M [00:02&lt;00:00, 147MB/s]"
          }
        },
        "11097aa88e1e4be4810b1dd5c8615ded": {
          "model_module": "@jupyter-widgets/base",
          "model_name": "LayoutModel",
          "model_module_version": "1.2.0",
          "state": {
            "_model_module": "@jupyter-widgets/base",
            "_model_module_version": "1.2.0",
            "_model_name": "LayoutModel",
            "_view_count": null,
            "_view_module": "@jupyter-widgets/base",
            "_view_module_version": "1.2.0",
            "_view_name": "LayoutView",
            "align_content": null,
            "align_items": null,
            "align_self": null,
            "border": null,
            "bottom": null,
            "display": null,
            "flex": null,
            "flex_flow": null,
            "grid_area": null,
            "grid_auto_columns": null,
            "grid_auto_flow": null,
            "grid_auto_rows": null,
            "grid_column": null,
            "grid_gap": null,
            "grid_row": null,
            "grid_template_areas": null,
            "grid_template_columns": null,
            "grid_template_rows": null,
            "height": null,
            "justify_content": null,
            "justify_items": null,
            "left": null,
            "margin": null,
            "max_height": null,
            "max_width": null,
            "min_height": null,
            "min_width": null,
            "object_fit": null,
            "object_position": null,
            "order": null,
            "overflow": null,
            "overflow_x": null,
            "overflow_y": null,
            "padding": null,
            "right": null,
            "top": null,
            "visibility": null,
            "width": null
          }
        },
        "b22aff22b5b24a559b79356b117c8712": {
          "model_module": "@jupyter-widgets/base",
          "model_name": "LayoutModel",
          "model_module_version": "1.2.0",
          "state": {
            "_model_module": "@jupyter-widgets/base",
            "_model_module_version": "1.2.0",
            "_model_name": "LayoutModel",
            "_view_count": null,
            "_view_module": "@jupyter-widgets/base",
            "_view_module_version": "1.2.0",
            "_view_name": "LayoutView",
            "align_content": null,
            "align_items": null,
            "align_self": null,
            "border": null,
            "bottom": null,
            "display": null,
            "flex": null,
            "flex_flow": null,
            "grid_area": null,
            "grid_auto_columns": null,
            "grid_auto_flow": null,
            "grid_auto_rows": null,
            "grid_column": null,
            "grid_gap": null,
            "grid_row": null,
            "grid_template_areas": null,
            "grid_template_columns": null,
            "grid_template_rows": null,
            "height": null,
            "justify_content": null,
            "justify_items": null,
            "left": null,
            "margin": null,
            "max_height": null,
            "max_width": null,
            "min_height": null,
            "min_width": null,
            "object_fit": null,
            "object_position": null,
            "order": null,
            "overflow": null,
            "overflow_x": null,
            "overflow_y": null,
            "padding": null,
            "right": null,
            "top": null,
            "visibility": null,
            "width": null
          }
        },
        "54475d251c3a425a82df943266b59a74": {
          "model_module": "@jupyter-widgets/controls",
          "model_name": "DescriptionStyleModel",
          "model_module_version": "1.5.0",
          "state": {
            "_model_module": "@jupyter-widgets/controls",
            "_model_module_version": "1.5.0",
            "_model_name": "DescriptionStyleModel",
            "_view_count": null,
            "_view_module": "@jupyter-widgets/base",
            "_view_module_version": "1.2.0",
            "_view_name": "StyleView",
            "description_width": ""
          }
        },
        "f72e2507c6b641908980f3cf5f3d4f08": {
          "model_module": "@jupyter-widgets/base",
          "model_name": "LayoutModel",
          "model_module_version": "1.2.0",
          "state": {
            "_model_module": "@jupyter-widgets/base",
            "_model_module_version": "1.2.0",
            "_model_name": "LayoutModel",
            "_view_count": null,
            "_view_module": "@jupyter-widgets/base",
            "_view_module_version": "1.2.0",
            "_view_name": "LayoutView",
            "align_content": null,
            "align_items": null,
            "align_self": null,
            "border": null,
            "bottom": null,
            "display": null,
            "flex": null,
            "flex_flow": null,
            "grid_area": null,
            "grid_auto_columns": null,
            "grid_auto_flow": null,
            "grid_auto_rows": null,
            "grid_column": null,
            "grid_gap": null,
            "grid_row": null,
            "grid_template_areas": null,
            "grid_template_columns": null,
            "grid_template_rows": null,
            "height": null,
            "justify_content": null,
            "justify_items": null,
            "left": null,
            "margin": null,
            "max_height": null,
            "max_width": null,
            "min_height": null,
            "min_width": null,
            "object_fit": null,
            "object_position": null,
            "order": null,
            "overflow": null,
            "overflow_x": null,
            "overflow_y": null,
            "padding": null,
            "right": null,
            "top": null,
            "visibility": null,
            "width": null
          }
        },
        "56703639a7a74e0d885aa1a4f1e80ab1": {
          "model_module": "@jupyter-widgets/controls",
          "model_name": "ProgressStyleModel",
          "model_module_version": "1.5.0",
          "state": {
            "_model_module": "@jupyter-widgets/controls",
            "_model_module_version": "1.5.0",
            "_model_name": "ProgressStyleModel",
            "_view_count": null,
            "_view_module": "@jupyter-widgets/base",
            "_view_module_version": "1.2.0",
            "_view_name": "StyleView",
            "bar_color": null,
            "description_width": ""
          }
        },
        "a6e8c0a0d77f496ba7451dd9f36c10e1": {
          "model_module": "@jupyter-widgets/base",
          "model_name": "LayoutModel",
          "model_module_version": "1.2.0",
          "state": {
            "_model_module": "@jupyter-widgets/base",
            "_model_module_version": "1.2.0",
            "_model_name": "LayoutModel",
            "_view_count": null,
            "_view_module": "@jupyter-widgets/base",
            "_view_module_version": "1.2.0",
            "_view_name": "LayoutView",
            "align_content": null,
            "align_items": null,
            "align_self": null,
            "border": null,
            "bottom": null,
            "display": null,
            "flex": null,
            "flex_flow": null,
            "grid_area": null,
            "grid_auto_columns": null,
            "grid_auto_flow": null,
            "grid_auto_rows": null,
            "grid_column": null,
            "grid_gap": null,
            "grid_row": null,
            "grid_template_areas": null,
            "grid_template_columns": null,
            "grid_template_rows": null,
            "height": null,
            "justify_content": null,
            "justify_items": null,
            "left": null,
            "margin": null,
            "max_height": null,
            "max_width": null,
            "min_height": null,
            "min_width": null,
            "object_fit": null,
            "object_position": null,
            "order": null,
            "overflow": null,
            "overflow_x": null,
            "overflow_y": null,
            "padding": null,
            "right": null,
            "top": null,
            "visibility": null,
            "width": null
          }
        },
        "8ee3ce1ec16d40d287abc4a19b39ebef": {
          "model_module": "@jupyter-widgets/controls",
          "model_name": "DescriptionStyleModel",
          "model_module_version": "1.5.0",
          "state": {
            "_model_module": "@jupyter-widgets/controls",
            "_model_module_version": "1.5.0",
            "_model_name": "DescriptionStyleModel",
            "_view_count": null,
            "_view_module": "@jupyter-widgets/base",
            "_view_module_version": "1.2.0",
            "_view_name": "StyleView",
            "description_width": ""
          }
        },
        "d5540b7446d145ef9a663543aea598fc": {
          "model_module": "@jupyter-widgets/controls",
          "model_name": "HBoxModel",
          "model_module_version": "1.5.0",
          "state": {
            "_dom_classes": [],
            "_model_module": "@jupyter-widgets/controls",
            "_model_module_version": "1.5.0",
            "_model_name": "HBoxModel",
            "_view_count": null,
            "_view_module": "@jupyter-widgets/controls",
            "_view_module_version": "1.5.0",
            "_view_name": "HBoxView",
            "box_style": "",
            "children": [
              "IPY_MODEL_96add6c1965d434bb8c56b470e5c7bab",
              "IPY_MODEL_e3dce4d6ab7b445c8ade2e282e283e33",
              "IPY_MODEL_2af666fef84243f1822e6eed8a850f4b"
            ],
            "layout": "IPY_MODEL_19a35fdbb9b449a49e4bd422482e4181"
          }
        },
        "96add6c1965d434bb8c56b470e5c7bab": {
          "model_module": "@jupyter-widgets/controls",
          "model_name": "HTMLModel",
          "model_module_version": "1.5.0",
          "state": {
            "_dom_classes": [],
            "_model_module": "@jupyter-widgets/controls",
            "_model_module_version": "1.5.0",
            "_model_name": "HTMLModel",
            "_view_count": null,
            "_view_module": "@jupyter-widgets/controls",
            "_view_module_version": "1.5.0",
            "_view_name": "HTMLView",
            "description": "",
            "description_tooltip": null,
            "layout": "IPY_MODEL_4fc69440d96c4ce896c6bc6730d14bd0",
            "placeholder": "​",
            "style": "IPY_MODEL_c2bbcf4ef80641609ea3551d3c97ae06",
            "value": "Downloading data: 100%"
          }
        },
        "e3dce4d6ab7b445c8ade2e282e283e33": {
          "model_module": "@jupyter-widgets/controls",
          "model_name": "FloatProgressModel",
          "model_module_version": "1.5.0",
          "state": {
            "_dom_classes": [],
            "_model_module": "@jupyter-widgets/controls",
            "_model_module_version": "1.5.0",
            "_model_name": "FloatProgressModel",
            "_view_count": null,
            "_view_module": "@jupyter-widgets/controls",
            "_view_module_version": "1.5.0",
            "_view_name": "ProgressView",
            "bar_style": "success",
            "description": "",
            "description_tooltip": null,
            "layout": "IPY_MODEL_f2bf8ed1e0eb4441a0eddb5cb0d4282e",
            "max": 19603443,
            "min": 0,
            "orientation": "horizontal",
            "style": "IPY_MODEL_d79bb8cdadf24167ae5034b8a35815a1",
            "value": 19603443
          }
        },
        "2af666fef84243f1822e6eed8a850f4b": {
          "model_module": "@jupyter-widgets/controls",
          "model_name": "HTMLModel",
          "model_module_version": "1.5.0",
          "state": {
            "_dom_classes": [],
            "_model_module": "@jupyter-widgets/controls",
            "_model_module_version": "1.5.0",
            "_model_name": "HTMLModel",
            "_view_count": null,
            "_view_module": "@jupyter-widgets/controls",
            "_view_module_version": "1.5.0",
            "_view_name": "HTMLView",
            "description": "",
            "description_tooltip": null,
            "layout": "IPY_MODEL_2385cfa9506e461badd6f52e9a6b3d9d",
            "placeholder": "​",
            "style": "IPY_MODEL_c07f3fc341294950bb6a4f383583fb89",
            "value": " 19.6M/19.6M [00:00&lt;00:00, 50.0MB/s]"
          }
        },
        "19a35fdbb9b449a49e4bd422482e4181": {
          "model_module": "@jupyter-widgets/base",
          "model_name": "LayoutModel",
          "model_module_version": "1.2.0",
          "state": {
            "_model_module": "@jupyter-widgets/base",
            "_model_module_version": "1.2.0",
            "_model_name": "LayoutModel",
            "_view_count": null,
            "_view_module": "@jupyter-widgets/base",
            "_view_module_version": "1.2.0",
            "_view_name": "LayoutView",
            "align_content": null,
            "align_items": null,
            "align_self": null,
            "border": null,
            "bottom": null,
            "display": null,
            "flex": null,
            "flex_flow": null,
            "grid_area": null,
            "grid_auto_columns": null,
            "grid_auto_flow": null,
            "grid_auto_rows": null,
            "grid_column": null,
            "grid_gap": null,
            "grid_row": null,
            "grid_template_areas": null,
            "grid_template_columns": null,
            "grid_template_rows": null,
            "height": null,
            "justify_content": null,
            "justify_items": null,
            "left": null,
            "margin": null,
            "max_height": null,
            "max_width": null,
            "min_height": null,
            "min_width": null,
            "object_fit": null,
            "object_position": null,
            "order": null,
            "overflow": null,
            "overflow_x": null,
            "overflow_y": null,
            "padding": null,
            "right": null,
            "top": null,
            "visibility": null,
            "width": null
          }
        },
        "4fc69440d96c4ce896c6bc6730d14bd0": {
          "model_module": "@jupyter-widgets/base",
          "model_name": "LayoutModel",
          "model_module_version": "1.2.0",
          "state": {
            "_model_module": "@jupyter-widgets/base",
            "_model_module_version": "1.2.0",
            "_model_name": "LayoutModel",
            "_view_count": null,
            "_view_module": "@jupyter-widgets/base",
            "_view_module_version": "1.2.0",
            "_view_name": "LayoutView",
            "align_content": null,
            "align_items": null,
            "align_self": null,
            "border": null,
            "bottom": null,
            "display": null,
            "flex": null,
            "flex_flow": null,
            "grid_area": null,
            "grid_auto_columns": null,
            "grid_auto_flow": null,
            "grid_auto_rows": null,
            "grid_column": null,
            "grid_gap": null,
            "grid_row": null,
            "grid_template_areas": null,
            "grid_template_columns": null,
            "grid_template_rows": null,
            "height": null,
            "justify_content": null,
            "justify_items": null,
            "left": null,
            "margin": null,
            "max_height": null,
            "max_width": null,
            "min_height": null,
            "min_width": null,
            "object_fit": null,
            "object_position": null,
            "order": null,
            "overflow": null,
            "overflow_x": null,
            "overflow_y": null,
            "padding": null,
            "right": null,
            "top": null,
            "visibility": null,
            "width": null
          }
        },
        "c2bbcf4ef80641609ea3551d3c97ae06": {
          "model_module": "@jupyter-widgets/controls",
          "model_name": "DescriptionStyleModel",
          "model_module_version": "1.5.0",
          "state": {
            "_model_module": "@jupyter-widgets/controls",
            "_model_module_version": "1.5.0",
            "_model_name": "DescriptionStyleModel",
            "_view_count": null,
            "_view_module": "@jupyter-widgets/base",
            "_view_module_version": "1.2.0",
            "_view_name": "StyleView",
            "description_width": ""
          }
        },
        "f2bf8ed1e0eb4441a0eddb5cb0d4282e": {
          "model_module": "@jupyter-widgets/base",
          "model_name": "LayoutModel",
          "model_module_version": "1.2.0",
          "state": {
            "_model_module": "@jupyter-widgets/base",
            "_model_module_version": "1.2.0",
            "_model_name": "LayoutModel",
            "_view_count": null,
            "_view_module": "@jupyter-widgets/base",
            "_view_module_version": "1.2.0",
            "_view_name": "LayoutView",
            "align_content": null,
            "align_items": null,
            "align_self": null,
            "border": null,
            "bottom": null,
            "display": null,
            "flex": null,
            "flex_flow": null,
            "grid_area": null,
            "grid_auto_columns": null,
            "grid_auto_flow": null,
            "grid_auto_rows": null,
            "grid_column": null,
            "grid_gap": null,
            "grid_row": null,
            "grid_template_areas": null,
            "grid_template_columns": null,
            "grid_template_rows": null,
            "height": null,
            "justify_content": null,
            "justify_items": null,
            "left": null,
            "margin": null,
            "max_height": null,
            "max_width": null,
            "min_height": null,
            "min_width": null,
            "object_fit": null,
            "object_position": null,
            "order": null,
            "overflow": null,
            "overflow_x": null,
            "overflow_y": null,
            "padding": null,
            "right": null,
            "top": null,
            "visibility": null,
            "width": null
          }
        },
        "d79bb8cdadf24167ae5034b8a35815a1": {
          "model_module": "@jupyter-widgets/controls",
          "model_name": "ProgressStyleModel",
          "model_module_version": "1.5.0",
          "state": {
            "_model_module": "@jupyter-widgets/controls",
            "_model_module_version": "1.5.0",
            "_model_name": "ProgressStyleModel",
            "_view_count": null,
            "_view_module": "@jupyter-widgets/base",
            "_view_module_version": "1.2.0",
            "_view_name": "StyleView",
            "bar_color": null,
            "description_width": ""
          }
        },
        "2385cfa9506e461badd6f52e9a6b3d9d": {
          "model_module": "@jupyter-widgets/base",
          "model_name": "LayoutModel",
          "model_module_version": "1.2.0",
          "state": {
            "_model_module": "@jupyter-widgets/base",
            "_model_module_version": "1.2.0",
            "_model_name": "LayoutModel",
            "_view_count": null,
            "_view_module": "@jupyter-widgets/base",
            "_view_module_version": "1.2.0",
            "_view_name": "LayoutView",
            "align_content": null,
            "align_items": null,
            "align_self": null,
            "border": null,
            "bottom": null,
            "display": null,
            "flex": null,
            "flex_flow": null,
            "grid_area": null,
            "grid_auto_columns": null,
            "grid_auto_flow": null,
            "grid_auto_rows": null,
            "grid_column": null,
            "grid_gap": null,
            "grid_row": null,
            "grid_template_areas": null,
            "grid_template_columns": null,
            "grid_template_rows": null,
            "height": null,
            "justify_content": null,
            "justify_items": null,
            "left": null,
            "margin": null,
            "max_height": null,
            "max_width": null,
            "min_height": null,
            "min_width": null,
            "object_fit": null,
            "object_position": null,
            "order": null,
            "overflow": null,
            "overflow_x": null,
            "overflow_y": null,
            "padding": null,
            "right": null,
            "top": null,
            "visibility": null,
            "width": null
          }
        },
        "c07f3fc341294950bb6a4f383583fb89": {
          "model_module": "@jupyter-widgets/controls",
          "model_name": "DescriptionStyleModel",
          "model_module_version": "1.5.0",
          "state": {
            "_model_module": "@jupyter-widgets/controls",
            "_model_module_version": "1.5.0",
            "_model_name": "DescriptionStyleModel",
            "_view_count": null,
            "_view_module": "@jupyter-widgets/base",
            "_view_module_version": "1.2.0",
            "_view_name": "StyleView",
            "description_width": ""
          }
        },
        "d1d44e2e878b4e9185d6a8a85580a582": {
          "model_module": "@jupyter-widgets/controls",
          "model_name": "HBoxModel",
          "model_module_version": "1.5.0",
          "state": {
            "_dom_classes": [],
            "_model_module": "@jupyter-widgets/controls",
            "_model_module_version": "1.5.0",
            "_model_name": "HBoxModel",
            "_view_count": null,
            "_view_module": "@jupyter-widgets/controls",
            "_view_module_version": "1.5.0",
            "_view_name": "HBoxView",
            "box_style": "",
            "children": [
              "IPY_MODEL_b3c1d6fd59c54fa59815e7217577b974",
              "IPY_MODEL_276b7162c5ad41e8b903bc18762b64ba",
              "IPY_MODEL_c799229e368c4b75b00f8f46dcf8048c"
            ],
            "layout": "IPY_MODEL_734d2eee2f3e489bad362baee03971f3"
          }
        },
        "b3c1d6fd59c54fa59815e7217577b974": {
          "model_module": "@jupyter-widgets/controls",
          "model_name": "HTMLModel",
          "model_module_version": "1.5.0",
          "state": {
            "_dom_classes": [],
            "_model_module": "@jupyter-widgets/controls",
            "_model_module_version": "1.5.0",
            "_model_name": "HTMLModel",
            "_view_count": null,
            "_view_module": "@jupyter-widgets/controls",
            "_view_module_version": "1.5.0",
            "_view_name": "HTMLView",
            "description": "",
            "description_tooltip": null,
            "layout": "IPY_MODEL_0c0ab28635ef468886232535dbfdbfc6",
            "placeholder": "​",
            "style": "IPY_MODEL_f9508ed8d8bf408188f3392eb5cf7f42",
            "value": "Downloading data: 100%"
          }
        },
        "276b7162c5ad41e8b903bc18762b64ba": {
          "model_module": "@jupyter-widgets/controls",
          "model_name": "FloatProgressModel",
          "model_module_version": "1.5.0",
          "state": {
            "_dom_classes": [],
            "_model_module": "@jupyter-widgets/controls",
            "_model_module_version": "1.5.0",
            "_model_name": "FloatProgressModel",
            "_view_count": null,
            "_view_module": "@jupyter-widgets/controls",
            "_view_module_version": "1.5.0",
            "_view_name": "ProgressView",
            "bar_style": "success",
            "description": "",
            "description_tooltip": null,
            "layout": "IPY_MODEL_98a2e9a12910455b8e6556ef8cb94708",
            "max": 19603193,
            "min": 0,
            "orientation": "horizontal",
            "style": "IPY_MODEL_258810658ff9403d8955f736f743129d",
            "value": 19603193
          }
        },
        "c799229e368c4b75b00f8f46dcf8048c": {
          "model_module": "@jupyter-widgets/controls",
          "model_name": "HTMLModel",
          "model_module_version": "1.5.0",
          "state": {
            "_dom_classes": [],
            "_model_module": "@jupyter-widgets/controls",
            "_model_module_version": "1.5.0",
            "_model_name": "HTMLModel",
            "_view_count": null,
            "_view_module": "@jupyter-widgets/controls",
            "_view_module_version": "1.5.0",
            "_view_name": "HTMLView",
            "description": "",
            "description_tooltip": null,
            "layout": "IPY_MODEL_ff3f79a210b54b7aaab41bdcf84a9c9e",
            "placeholder": "​",
            "style": "IPY_MODEL_823e16d30aa042078952b63b69ab360e",
            "value": " 19.6M/19.6M [00:00&lt;00:00, 43.3MB/s]"
          }
        },
        "734d2eee2f3e489bad362baee03971f3": {
          "model_module": "@jupyter-widgets/base",
          "model_name": "LayoutModel",
          "model_module_version": "1.2.0",
          "state": {
            "_model_module": "@jupyter-widgets/base",
            "_model_module_version": "1.2.0",
            "_model_name": "LayoutModel",
            "_view_count": null,
            "_view_module": "@jupyter-widgets/base",
            "_view_module_version": "1.2.0",
            "_view_name": "LayoutView",
            "align_content": null,
            "align_items": null,
            "align_self": null,
            "border": null,
            "bottom": null,
            "display": null,
            "flex": null,
            "flex_flow": null,
            "grid_area": null,
            "grid_auto_columns": null,
            "grid_auto_flow": null,
            "grid_auto_rows": null,
            "grid_column": null,
            "grid_gap": null,
            "grid_row": null,
            "grid_template_areas": null,
            "grid_template_columns": null,
            "grid_template_rows": null,
            "height": null,
            "justify_content": null,
            "justify_items": null,
            "left": null,
            "margin": null,
            "max_height": null,
            "max_width": null,
            "min_height": null,
            "min_width": null,
            "object_fit": null,
            "object_position": null,
            "order": null,
            "overflow": null,
            "overflow_x": null,
            "overflow_y": null,
            "padding": null,
            "right": null,
            "top": null,
            "visibility": null,
            "width": null
          }
        },
        "0c0ab28635ef468886232535dbfdbfc6": {
          "model_module": "@jupyter-widgets/base",
          "model_name": "LayoutModel",
          "model_module_version": "1.2.0",
          "state": {
            "_model_module": "@jupyter-widgets/base",
            "_model_module_version": "1.2.0",
            "_model_name": "LayoutModel",
            "_view_count": null,
            "_view_module": "@jupyter-widgets/base",
            "_view_module_version": "1.2.0",
            "_view_name": "LayoutView",
            "align_content": null,
            "align_items": null,
            "align_self": null,
            "border": null,
            "bottom": null,
            "display": null,
            "flex": null,
            "flex_flow": null,
            "grid_area": null,
            "grid_auto_columns": null,
            "grid_auto_flow": null,
            "grid_auto_rows": null,
            "grid_column": null,
            "grid_gap": null,
            "grid_row": null,
            "grid_template_areas": null,
            "grid_template_columns": null,
            "grid_template_rows": null,
            "height": null,
            "justify_content": null,
            "justify_items": null,
            "left": null,
            "margin": null,
            "max_height": null,
            "max_width": null,
            "min_height": null,
            "min_width": null,
            "object_fit": null,
            "object_position": null,
            "order": null,
            "overflow": null,
            "overflow_x": null,
            "overflow_y": null,
            "padding": null,
            "right": null,
            "top": null,
            "visibility": null,
            "width": null
          }
        },
        "f9508ed8d8bf408188f3392eb5cf7f42": {
          "model_module": "@jupyter-widgets/controls",
          "model_name": "DescriptionStyleModel",
          "model_module_version": "1.5.0",
          "state": {
            "_model_module": "@jupyter-widgets/controls",
            "_model_module_version": "1.5.0",
            "_model_name": "DescriptionStyleModel",
            "_view_count": null,
            "_view_module": "@jupyter-widgets/base",
            "_view_module_version": "1.2.0",
            "_view_name": "StyleView",
            "description_width": ""
          }
        },
        "98a2e9a12910455b8e6556ef8cb94708": {
          "model_module": "@jupyter-widgets/base",
          "model_name": "LayoutModel",
          "model_module_version": "1.2.0",
          "state": {
            "_model_module": "@jupyter-widgets/base",
            "_model_module_version": "1.2.0",
            "_model_name": "LayoutModel",
            "_view_count": null,
            "_view_module": "@jupyter-widgets/base",
            "_view_module_version": "1.2.0",
            "_view_name": "LayoutView",
            "align_content": null,
            "align_items": null,
            "align_self": null,
            "border": null,
            "bottom": null,
            "display": null,
            "flex": null,
            "flex_flow": null,
            "grid_area": null,
            "grid_auto_columns": null,
            "grid_auto_flow": null,
            "grid_auto_rows": null,
            "grid_column": null,
            "grid_gap": null,
            "grid_row": null,
            "grid_template_areas": null,
            "grid_template_columns": null,
            "grid_template_rows": null,
            "height": null,
            "justify_content": null,
            "justify_items": null,
            "left": null,
            "margin": null,
            "max_height": null,
            "max_width": null,
            "min_height": null,
            "min_width": null,
            "object_fit": null,
            "object_position": null,
            "order": null,
            "overflow": null,
            "overflow_x": null,
            "overflow_y": null,
            "padding": null,
            "right": null,
            "top": null,
            "visibility": null,
            "width": null
          }
        },
        "258810658ff9403d8955f736f743129d": {
          "model_module": "@jupyter-widgets/controls",
          "model_name": "ProgressStyleModel",
          "model_module_version": "1.5.0",
          "state": {
            "_model_module": "@jupyter-widgets/controls",
            "_model_module_version": "1.5.0",
            "_model_name": "ProgressStyleModel",
            "_view_count": null,
            "_view_module": "@jupyter-widgets/base",
            "_view_module_version": "1.2.0",
            "_view_name": "StyleView",
            "bar_color": null,
            "description_width": ""
          }
        },
        "ff3f79a210b54b7aaab41bdcf84a9c9e": {
          "model_module": "@jupyter-widgets/base",
          "model_name": "LayoutModel",
          "model_module_version": "1.2.0",
          "state": {
            "_model_module": "@jupyter-widgets/base",
            "_model_module_version": "1.2.0",
            "_model_name": "LayoutModel",
            "_view_count": null,
            "_view_module": "@jupyter-widgets/base",
            "_view_module_version": "1.2.0",
            "_view_name": "LayoutView",
            "align_content": null,
            "align_items": null,
            "align_self": null,
            "border": null,
            "bottom": null,
            "display": null,
            "flex": null,
            "flex_flow": null,
            "grid_area": null,
            "grid_auto_columns": null,
            "grid_auto_flow": null,
            "grid_auto_rows": null,
            "grid_column": null,
            "grid_gap": null,
            "grid_row": null,
            "grid_template_areas": null,
            "grid_template_columns": null,
            "grid_template_rows": null,
            "height": null,
            "justify_content": null,
            "justify_items": null,
            "left": null,
            "margin": null,
            "max_height": null,
            "max_width": null,
            "min_height": null,
            "min_width": null,
            "object_fit": null,
            "object_position": null,
            "order": null,
            "overflow": null,
            "overflow_x": null,
            "overflow_y": null,
            "padding": null,
            "right": null,
            "top": null,
            "visibility": null,
            "width": null
          }
        },
        "823e16d30aa042078952b63b69ab360e": {
          "model_module": "@jupyter-widgets/controls",
          "model_name": "DescriptionStyleModel",
          "model_module_version": "1.5.0",
          "state": {
            "_model_module": "@jupyter-widgets/controls",
            "_model_module_version": "1.5.0",
            "_model_name": "DescriptionStyleModel",
            "_view_count": null,
            "_view_module": "@jupyter-widgets/base",
            "_view_module_version": "1.2.0",
            "_view_name": "StyleView",
            "description_width": ""
          }
        },
        "23217861b73b42fcaa0e907989a62aeb": {
          "model_module": "@jupyter-widgets/controls",
          "model_name": "HBoxModel",
          "model_module_version": "1.5.0",
          "state": {
            "_dom_classes": [],
            "_model_module": "@jupyter-widgets/controls",
            "_model_module_version": "1.5.0",
            "_model_name": "HBoxModel",
            "_view_count": null,
            "_view_module": "@jupyter-widgets/controls",
            "_view_module_version": "1.5.0",
            "_view_name": "HBoxView",
            "box_style": "",
            "children": [
              "IPY_MODEL_6a4e2cb8cee246d7a9bc08c1b18df60f",
              "IPY_MODEL_708eb504a7d04b8ba5439ced24296ee4",
              "IPY_MODEL_3415ff227f9f4a69ac035cec1628058d"
            ],
            "layout": "IPY_MODEL_958aa2297f2743bca99e82f07096a1cf"
          }
        },
        "6a4e2cb8cee246d7a9bc08c1b18df60f": {
          "model_module": "@jupyter-widgets/controls",
          "model_name": "HTMLModel",
          "model_module_version": "1.5.0",
          "state": {
            "_dom_classes": [],
            "_model_module": "@jupyter-widgets/controls",
            "_model_module_version": "1.5.0",
            "_model_name": "HTMLModel",
            "_view_count": null,
            "_view_module": "@jupyter-widgets/controls",
            "_view_module_version": "1.5.0",
            "_view_name": "HTMLView",
            "description": "",
            "description_tooltip": null,
            "layout": "IPY_MODEL_798ae72f1fd541f9a298200668352896",
            "placeholder": "​",
            "style": "IPY_MODEL_1357853f95214017938599304abbb7b3",
            "value": "Generating train split: 100%"
          }
        },
        "708eb504a7d04b8ba5439ced24296ee4": {
          "model_module": "@jupyter-widgets/controls",
          "model_name": "FloatProgressModel",
          "model_module_version": "1.5.0",
          "state": {
            "_dom_classes": [],
            "_model_module": "@jupyter-widgets/controls",
            "_model_module_version": "1.5.0",
            "_model_name": "FloatProgressModel",
            "_view_count": null,
            "_view_module": "@jupyter-widgets/controls",
            "_view_module_version": "1.5.0",
            "_view_name": "ProgressView",
            "bar_style": "success",
            "description": "",
            "description_tooltip": null,
            "layout": "IPY_MODEL_a5dbff808e504b37b94bc4eb113358ed",
            "max": 139288,
            "min": 0,
            "orientation": "horizontal",
            "style": "IPY_MODEL_666263daa97e4283b1e9617469bc966a",
            "value": 139288
          }
        },
        "3415ff227f9f4a69ac035cec1628058d": {
          "model_module": "@jupyter-widgets/controls",
          "model_name": "HTMLModel",
          "model_module_version": "1.5.0",
          "state": {
            "_dom_classes": [],
            "_model_module": "@jupyter-widgets/controls",
            "_model_module_version": "1.5.0",
            "_model_name": "HTMLModel",
            "_view_count": null,
            "_view_module": "@jupyter-widgets/controls",
            "_view_module_version": "1.5.0",
            "_view_name": "HTMLView",
            "description": "",
            "description_tooltip": null,
            "layout": "IPY_MODEL_c9ccc81c6f0b4eb4903d6e98f7e24606",
            "placeholder": "​",
            "style": "IPY_MODEL_3bd05f0cba8d4f728bfc8c861135cbcd",
            "value": " 139288/139288 [00:07&lt;00:00, 16724.20 examples/s]"
          }
        },
        "958aa2297f2743bca99e82f07096a1cf": {
          "model_module": "@jupyter-widgets/base",
          "model_name": "LayoutModel",
          "model_module_version": "1.2.0",
          "state": {
            "_model_module": "@jupyter-widgets/base",
            "_model_module_version": "1.2.0",
            "_model_name": "LayoutModel",
            "_view_count": null,
            "_view_module": "@jupyter-widgets/base",
            "_view_module_version": "1.2.0",
            "_view_name": "LayoutView",
            "align_content": null,
            "align_items": null,
            "align_self": null,
            "border": null,
            "bottom": null,
            "display": null,
            "flex": null,
            "flex_flow": null,
            "grid_area": null,
            "grid_auto_columns": null,
            "grid_auto_flow": null,
            "grid_auto_rows": null,
            "grid_column": null,
            "grid_gap": null,
            "grid_row": null,
            "grid_template_areas": null,
            "grid_template_columns": null,
            "grid_template_rows": null,
            "height": null,
            "justify_content": null,
            "justify_items": null,
            "left": null,
            "margin": null,
            "max_height": null,
            "max_width": null,
            "min_height": null,
            "min_width": null,
            "object_fit": null,
            "object_position": null,
            "order": null,
            "overflow": null,
            "overflow_x": null,
            "overflow_y": null,
            "padding": null,
            "right": null,
            "top": null,
            "visibility": null,
            "width": null
          }
        },
        "798ae72f1fd541f9a298200668352896": {
          "model_module": "@jupyter-widgets/base",
          "model_name": "LayoutModel",
          "model_module_version": "1.2.0",
          "state": {
            "_model_module": "@jupyter-widgets/base",
            "_model_module_version": "1.2.0",
            "_model_name": "LayoutModel",
            "_view_count": null,
            "_view_module": "@jupyter-widgets/base",
            "_view_module_version": "1.2.0",
            "_view_name": "LayoutView",
            "align_content": null,
            "align_items": null,
            "align_self": null,
            "border": null,
            "bottom": null,
            "display": null,
            "flex": null,
            "flex_flow": null,
            "grid_area": null,
            "grid_auto_columns": null,
            "grid_auto_flow": null,
            "grid_auto_rows": null,
            "grid_column": null,
            "grid_gap": null,
            "grid_row": null,
            "grid_template_areas": null,
            "grid_template_columns": null,
            "grid_template_rows": null,
            "height": null,
            "justify_content": null,
            "justify_items": null,
            "left": null,
            "margin": null,
            "max_height": null,
            "max_width": null,
            "min_height": null,
            "min_width": null,
            "object_fit": null,
            "object_position": null,
            "order": null,
            "overflow": null,
            "overflow_x": null,
            "overflow_y": null,
            "padding": null,
            "right": null,
            "top": null,
            "visibility": null,
            "width": null
          }
        },
        "1357853f95214017938599304abbb7b3": {
          "model_module": "@jupyter-widgets/controls",
          "model_name": "DescriptionStyleModel",
          "model_module_version": "1.5.0",
          "state": {
            "_model_module": "@jupyter-widgets/controls",
            "_model_module_version": "1.5.0",
            "_model_name": "DescriptionStyleModel",
            "_view_count": null,
            "_view_module": "@jupyter-widgets/base",
            "_view_module_version": "1.2.0",
            "_view_name": "StyleView",
            "description_width": ""
          }
        },
        "a5dbff808e504b37b94bc4eb113358ed": {
          "model_module": "@jupyter-widgets/base",
          "model_name": "LayoutModel",
          "model_module_version": "1.2.0",
          "state": {
            "_model_module": "@jupyter-widgets/base",
            "_model_module_version": "1.2.0",
            "_model_name": "LayoutModel",
            "_view_count": null,
            "_view_module": "@jupyter-widgets/base",
            "_view_module_version": "1.2.0",
            "_view_name": "LayoutView",
            "align_content": null,
            "align_items": null,
            "align_self": null,
            "border": null,
            "bottom": null,
            "display": null,
            "flex": null,
            "flex_flow": null,
            "grid_area": null,
            "grid_auto_columns": null,
            "grid_auto_flow": null,
            "grid_auto_rows": null,
            "grid_column": null,
            "grid_gap": null,
            "grid_row": null,
            "grid_template_areas": null,
            "grid_template_columns": null,
            "grid_template_rows": null,
            "height": null,
            "justify_content": null,
            "justify_items": null,
            "left": null,
            "margin": null,
            "max_height": null,
            "max_width": null,
            "min_height": null,
            "min_width": null,
            "object_fit": null,
            "object_position": null,
            "order": null,
            "overflow": null,
            "overflow_x": null,
            "overflow_y": null,
            "padding": null,
            "right": null,
            "top": null,
            "visibility": null,
            "width": null
          }
        },
        "666263daa97e4283b1e9617469bc966a": {
          "model_module": "@jupyter-widgets/controls",
          "model_name": "ProgressStyleModel",
          "model_module_version": "1.5.0",
          "state": {
            "_model_module": "@jupyter-widgets/controls",
            "_model_module_version": "1.5.0",
            "_model_name": "ProgressStyleModel",
            "_view_count": null,
            "_view_module": "@jupyter-widgets/base",
            "_view_module_version": "1.2.0",
            "_view_name": "StyleView",
            "bar_color": null,
            "description_width": ""
          }
        },
        "c9ccc81c6f0b4eb4903d6e98f7e24606": {
          "model_module": "@jupyter-widgets/base",
          "model_name": "LayoutModel",
          "model_module_version": "1.2.0",
          "state": {
            "_model_module": "@jupyter-widgets/base",
            "_model_module_version": "1.2.0",
            "_model_name": "LayoutModel",
            "_view_count": null,
            "_view_module": "@jupyter-widgets/base",
            "_view_module_version": "1.2.0",
            "_view_name": "LayoutView",
            "align_content": null,
            "align_items": null,
            "align_self": null,
            "border": null,
            "bottom": null,
            "display": null,
            "flex": null,
            "flex_flow": null,
            "grid_area": null,
            "grid_auto_columns": null,
            "grid_auto_flow": null,
            "grid_auto_rows": null,
            "grid_column": null,
            "grid_gap": null,
            "grid_row": null,
            "grid_template_areas": null,
            "grid_template_columns": null,
            "grid_template_rows": null,
            "height": null,
            "justify_content": null,
            "justify_items": null,
            "left": null,
            "margin": null,
            "max_height": null,
            "max_width": null,
            "min_height": null,
            "min_width": null,
            "object_fit": null,
            "object_position": null,
            "order": null,
            "overflow": null,
            "overflow_x": null,
            "overflow_y": null,
            "padding": null,
            "right": null,
            "top": null,
            "visibility": null,
            "width": null
          }
        },
        "3bd05f0cba8d4f728bfc8c861135cbcd": {
          "model_module": "@jupyter-widgets/controls",
          "model_name": "DescriptionStyleModel",
          "model_module_version": "1.5.0",
          "state": {
            "_model_module": "@jupyter-widgets/controls",
            "_model_module_version": "1.5.0",
            "_model_name": "DescriptionStyleModel",
            "_view_count": null,
            "_view_module": "@jupyter-widgets/base",
            "_view_module_version": "1.2.0",
            "_view_name": "StyleView",
            "description_width": ""
          }
        },
        "c12340902ccd44969f4fa27069dfd9b5": {
          "model_module": "@jupyter-widgets/controls",
          "model_name": "HBoxModel",
          "model_module_version": "1.5.0",
          "state": {
            "_dom_classes": [],
            "_model_module": "@jupyter-widgets/controls",
            "_model_module_version": "1.5.0",
            "_model_name": "HBoxModel",
            "_view_count": null,
            "_view_module": "@jupyter-widgets/controls",
            "_view_module_version": "1.5.0",
            "_view_name": "HBoxView",
            "box_style": "",
            "children": [
              "IPY_MODEL_70065fb02cd6421bbd37407b88ad5fa3",
              "IPY_MODEL_a1a535ba2bba433d98d9f8a4b64058b0",
              "IPY_MODEL_558184093d70472fbbd5a6c9e4b4cadc"
            ],
            "layout": "IPY_MODEL_33b6e01ab754413a83cdf389c1b027f7"
          }
        },
        "70065fb02cd6421bbd37407b88ad5fa3": {
          "model_module": "@jupyter-widgets/controls",
          "model_name": "HTMLModel",
          "model_module_version": "1.5.0",
          "state": {
            "_dom_classes": [],
            "_model_module": "@jupyter-widgets/controls",
            "_model_module_version": "1.5.0",
            "_model_name": "HTMLModel",
            "_view_count": null,
            "_view_module": "@jupyter-widgets/controls",
            "_view_module_version": "1.5.0",
            "_view_name": "HTMLView",
            "description": "",
            "description_tooltip": null,
            "layout": "IPY_MODEL_cc6bb8b13d744c82b975e3ee62d09d85",
            "placeholder": "​",
            "style": "IPY_MODEL_75cf8c428062480e9bdea18f9c18d46f",
            "value": "Generating validation split: 100%"
          }
        },
        "a1a535ba2bba433d98d9f8a4b64058b0": {
          "model_module": "@jupyter-widgets/controls",
          "model_name": "FloatProgressModel",
          "model_module_version": "1.5.0",
          "state": {
            "_dom_classes": [],
            "_model_module": "@jupyter-widgets/controls",
            "_model_module_version": "1.5.0",
            "_model_name": "FloatProgressModel",
            "_view_count": null,
            "_view_module": "@jupyter-widgets/controls",
            "_view_module_version": "1.5.0",
            "_view_name": "ProgressView",
            "bar_style": "success",
            "description": "",
            "description_tooltip": null,
            "layout": "IPY_MODEL_7b16c266382a437fb26991fcd0381466",
            "max": 9497,
            "min": 0,
            "orientation": "horizontal",
            "style": "IPY_MODEL_f958d777f0a54f5f81ffb9ecec15c9f8",
            "value": 9497
          }
        },
        "558184093d70472fbbd5a6c9e4b4cadc": {
          "model_module": "@jupyter-widgets/controls",
          "model_name": "HTMLModel",
          "model_module_version": "1.5.0",
          "state": {
            "_dom_classes": [],
            "_model_module": "@jupyter-widgets/controls",
            "_model_module_version": "1.5.0",
            "_model_name": "HTMLModel",
            "_view_count": null,
            "_view_module": "@jupyter-widgets/controls",
            "_view_module_version": "1.5.0",
            "_view_name": "HTMLView",
            "description": "",
            "description_tooltip": null,
            "layout": "IPY_MODEL_a94efba3c3a3453ea34c68d7bd83aa4c",
            "placeholder": "​",
            "style": "IPY_MODEL_83397be46d534fe4ad68ddf416d730f1",
            "value": " 9497/9497 [00:00&lt;00:00, 14775.11 examples/s]"
          }
        },
        "33b6e01ab754413a83cdf389c1b027f7": {
          "model_module": "@jupyter-widgets/base",
          "model_name": "LayoutModel",
          "model_module_version": "1.2.0",
          "state": {
            "_model_module": "@jupyter-widgets/base",
            "_model_module_version": "1.2.0",
            "_model_name": "LayoutModel",
            "_view_count": null,
            "_view_module": "@jupyter-widgets/base",
            "_view_module_version": "1.2.0",
            "_view_name": "LayoutView",
            "align_content": null,
            "align_items": null,
            "align_self": null,
            "border": null,
            "bottom": null,
            "display": null,
            "flex": null,
            "flex_flow": null,
            "grid_area": null,
            "grid_auto_columns": null,
            "grid_auto_flow": null,
            "grid_auto_rows": null,
            "grid_column": null,
            "grid_gap": null,
            "grid_row": null,
            "grid_template_areas": null,
            "grid_template_columns": null,
            "grid_template_rows": null,
            "height": null,
            "justify_content": null,
            "justify_items": null,
            "left": null,
            "margin": null,
            "max_height": null,
            "max_width": null,
            "min_height": null,
            "min_width": null,
            "object_fit": null,
            "object_position": null,
            "order": null,
            "overflow": null,
            "overflow_x": null,
            "overflow_y": null,
            "padding": null,
            "right": null,
            "top": null,
            "visibility": null,
            "width": null
          }
        },
        "cc6bb8b13d744c82b975e3ee62d09d85": {
          "model_module": "@jupyter-widgets/base",
          "model_name": "LayoutModel",
          "model_module_version": "1.2.0",
          "state": {
            "_model_module": "@jupyter-widgets/base",
            "_model_module_version": "1.2.0",
            "_model_name": "LayoutModel",
            "_view_count": null,
            "_view_module": "@jupyter-widgets/base",
            "_view_module_version": "1.2.0",
            "_view_name": "LayoutView",
            "align_content": null,
            "align_items": null,
            "align_self": null,
            "border": null,
            "bottom": null,
            "display": null,
            "flex": null,
            "flex_flow": null,
            "grid_area": null,
            "grid_auto_columns": null,
            "grid_auto_flow": null,
            "grid_auto_rows": null,
            "grid_column": null,
            "grid_gap": null,
            "grid_row": null,
            "grid_template_areas": null,
            "grid_template_columns": null,
            "grid_template_rows": null,
            "height": null,
            "justify_content": null,
            "justify_items": null,
            "left": null,
            "margin": null,
            "max_height": null,
            "max_width": null,
            "min_height": null,
            "min_width": null,
            "object_fit": null,
            "object_position": null,
            "order": null,
            "overflow": null,
            "overflow_x": null,
            "overflow_y": null,
            "padding": null,
            "right": null,
            "top": null,
            "visibility": null,
            "width": null
          }
        },
        "75cf8c428062480e9bdea18f9c18d46f": {
          "model_module": "@jupyter-widgets/controls",
          "model_name": "DescriptionStyleModel",
          "model_module_version": "1.5.0",
          "state": {
            "_model_module": "@jupyter-widgets/controls",
            "_model_module_version": "1.5.0",
            "_model_name": "DescriptionStyleModel",
            "_view_count": null,
            "_view_module": "@jupyter-widgets/base",
            "_view_module_version": "1.2.0",
            "_view_name": "StyleView",
            "description_width": ""
          }
        },
        "7b16c266382a437fb26991fcd0381466": {
          "model_module": "@jupyter-widgets/base",
          "model_name": "LayoutModel",
          "model_module_version": "1.2.0",
          "state": {
            "_model_module": "@jupyter-widgets/base",
            "_model_module_version": "1.2.0",
            "_model_name": "LayoutModel",
            "_view_count": null,
            "_view_module": "@jupyter-widgets/base",
            "_view_module_version": "1.2.0",
            "_view_name": "LayoutView",
            "align_content": null,
            "align_items": null,
            "align_self": null,
            "border": null,
            "bottom": null,
            "display": null,
            "flex": null,
            "flex_flow": null,
            "grid_area": null,
            "grid_auto_columns": null,
            "grid_auto_flow": null,
            "grid_auto_rows": null,
            "grid_column": null,
            "grid_gap": null,
            "grid_row": null,
            "grid_template_areas": null,
            "grid_template_columns": null,
            "grid_template_rows": null,
            "height": null,
            "justify_content": null,
            "justify_items": null,
            "left": null,
            "margin": null,
            "max_height": null,
            "max_width": null,
            "min_height": null,
            "min_width": null,
            "object_fit": null,
            "object_position": null,
            "order": null,
            "overflow": null,
            "overflow_x": null,
            "overflow_y": null,
            "padding": null,
            "right": null,
            "top": null,
            "visibility": null,
            "width": null
          }
        },
        "f958d777f0a54f5f81ffb9ecec15c9f8": {
          "model_module": "@jupyter-widgets/controls",
          "model_name": "ProgressStyleModel",
          "model_module_version": "1.5.0",
          "state": {
            "_model_module": "@jupyter-widgets/controls",
            "_model_module_version": "1.5.0",
            "_model_name": "ProgressStyleModel",
            "_view_count": null,
            "_view_module": "@jupyter-widgets/base",
            "_view_module_version": "1.2.0",
            "_view_name": "StyleView",
            "bar_color": null,
            "description_width": ""
          }
        },
        "a94efba3c3a3453ea34c68d7bd83aa4c": {
          "model_module": "@jupyter-widgets/base",
          "model_name": "LayoutModel",
          "model_module_version": "1.2.0",
          "state": {
            "_model_module": "@jupyter-widgets/base",
            "_model_module_version": "1.2.0",
            "_model_name": "LayoutModel",
            "_view_count": null,
            "_view_module": "@jupyter-widgets/base",
            "_view_module_version": "1.2.0",
            "_view_name": "LayoutView",
            "align_content": null,
            "align_items": null,
            "align_self": null,
            "border": null,
            "bottom": null,
            "display": null,
            "flex": null,
            "flex_flow": null,
            "grid_area": null,
            "grid_auto_columns": null,
            "grid_auto_flow": null,
            "grid_auto_rows": null,
            "grid_column": null,
            "grid_gap": null,
            "grid_row": null,
            "grid_template_areas": null,
            "grid_template_columns": null,
            "grid_template_rows": null,
            "height": null,
            "justify_content": null,
            "justify_items": null,
            "left": null,
            "margin": null,
            "max_height": null,
            "max_width": null,
            "min_height": null,
            "min_width": null,
            "object_fit": null,
            "object_position": null,
            "order": null,
            "overflow": null,
            "overflow_x": null,
            "overflow_y": null,
            "padding": null,
            "right": null,
            "top": null,
            "visibility": null,
            "width": null
          }
        },
        "83397be46d534fe4ad68ddf416d730f1": {
          "model_module": "@jupyter-widgets/controls",
          "model_name": "DescriptionStyleModel",
          "model_module_version": "1.5.0",
          "state": {
            "_model_module": "@jupyter-widgets/controls",
            "_model_module_version": "1.5.0",
            "_model_name": "DescriptionStyleModel",
            "_view_count": null,
            "_view_module": "@jupyter-widgets/base",
            "_view_module_version": "1.2.0",
            "_view_name": "StyleView",
            "description_width": ""
          }
        },
        "5222d41c1f61443681bb1967563a741a": {
          "model_module": "@jupyter-widgets/controls",
          "model_name": "HBoxModel",
          "model_module_version": "1.5.0",
          "state": {
            "_dom_classes": [],
            "_model_module": "@jupyter-widgets/controls",
            "_model_module_version": "1.5.0",
            "_model_name": "HBoxModel",
            "_view_count": null,
            "_view_module": "@jupyter-widgets/controls",
            "_view_module_version": "1.5.0",
            "_view_name": "HBoxView",
            "box_style": "",
            "children": [
              "IPY_MODEL_80ad273203f74672ba657bb9731d1851",
              "IPY_MODEL_42e9f1cd26d94316b6c9053c6cab5472",
              "IPY_MODEL_3ad514025b044fa4b08b351ff7ac3c86"
            ],
            "layout": "IPY_MODEL_fbe1372b04c841258c1f9851f66067ec"
          }
        },
        "80ad273203f74672ba657bb9731d1851": {
          "model_module": "@jupyter-widgets/controls",
          "model_name": "HTMLModel",
          "model_module_version": "1.5.0",
          "state": {
            "_dom_classes": [],
            "_model_module": "@jupyter-widgets/controls",
            "_model_module_version": "1.5.0",
            "_model_name": "HTMLModel",
            "_view_count": null,
            "_view_module": "@jupyter-widgets/controls",
            "_view_module_version": "1.5.0",
            "_view_name": "HTMLView",
            "description": "",
            "description_tooltip": null,
            "layout": "IPY_MODEL_b4bc4c882ea84839a21a467d53a74349",
            "placeholder": "​",
            "style": "IPY_MODEL_73d43d7b66fa4dffb36988a68a397e93",
            "value": "Generating test split: 100%"
          }
        },
        "42e9f1cd26d94316b6c9053c6cab5472": {
          "model_module": "@jupyter-widgets/controls",
          "model_name": "FloatProgressModel",
          "model_module_version": "1.5.0",
          "state": {
            "_dom_classes": [],
            "_model_module": "@jupyter-widgets/controls",
            "_model_module_version": "1.5.0",
            "_model_name": "FloatProgressModel",
            "_view_count": null,
            "_view_module": "@jupyter-widgets/controls",
            "_view_module_version": "1.5.0",
            "_view_name": "ProgressView",
            "bar_style": "success",
            "description": "",
            "description_tooltip": null,
            "layout": "IPY_MODEL_da6b4964b30f4f83978cd41931174524",
            "max": 9497,
            "min": 0,
            "orientation": "horizontal",
            "style": "IPY_MODEL_d3819dff44044c74af9847f34ff28991",
            "value": 9497
          }
        },
        "3ad514025b044fa4b08b351ff7ac3c86": {
          "model_module": "@jupyter-widgets/controls",
          "model_name": "HTMLModel",
          "model_module_version": "1.5.0",
          "state": {
            "_dom_classes": [],
            "_model_module": "@jupyter-widgets/controls",
            "_model_module_version": "1.5.0",
            "_model_name": "HTMLModel",
            "_view_count": null,
            "_view_module": "@jupyter-widgets/controls",
            "_view_module_version": "1.5.0",
            "_view_name": "HTMLView",
            "description": "",
            "description_tooltip": null,
            "layout": "IPY_MODEL_956041e61f1d4c2aa6b7491692c23c57",
            "placeholder": "​",
            "style": "IPY_MODEL_e14f370970df46f08e98c78de8af6935",
            "value": " 9497/9497 [00:00&lt;00:00, 12809.97 examples/s]"
          }
        },
        "fbe1372b04c841258c1f9851f66067ec": {
          "model_module": "@jupyter-widgets/base",
          "model_name": "LayoutModel",
          "model_module_version": "1.2.0",
          "state": {
            "_model_module": "@jupyter-widgets/base",
            "_model_module_version": "1.2.0",
            "_model_name": "LayoutModel",
            "_view_count": null,
            "_view_module": "@jupyter-widgets/base",
            "_view_module_version": "1.2.0",
            "_view_name": "LayoutView",
            "align_content": null,
            "align_items": null,
            "align_self": null,
            "border": null,
            "bottom": null,
            "display": null,
            "flex": null,
            "flex_flow": null,
            "grid_area": null,
            "grid_auto_columns": null,
            "grid_auto_flow": null,
            "grid_auto_rows": null,
            "grid_column": null,
            "grid_gap": null,
            "grid_row": null,
            "grid_template_areas": null,
            "grid_template_columns": null,
            "grid_template_rows": null,
            "height": null,
            "justify_content": null,
            "justify_items": null,
            "left": null,
            "margin": null,
            "max_height": null,
            "max_width": null,
            "min_height": null,
            "min_width": null,
            "object_fit": null,
            "object_position": null,
            "order": null,
            "overflow": null,
            "overflow_x": null,
            "overflow_y": null,
            "padding": null,
            "right": null,
            "top": null,
            "visibility": null,
            "width": null
          }
        },
        "b4bc4c882ea84839a21a467d53a74349": {
          "model_module": "@jupyter-widgets/base",
          "model_name": "LayoutModel",
          "model_module_version": "1.2.0",
          "state": {
            "_model_module": "@jupyter-widgets/base",
            "_model_module_version": "1.2.0",
            "_model_name": "LayoutModel",
            "_view_count": null,
            "_view_module": "@jupyter-widgets/base",
            "_view_module_version": "1.2.0",
            "_view_name": "LayoutView",
            "align_content": null,
            "align_items": null,
            "align_self": null,
            "border": null,
            "bottom": null,
            "display": null,
            "flex": null,
            "flex_flow": null,
            "grid_area": null,
            "grid_auto_columns": null,
            "grid_auto_flow": null,
            "grid_auto_rows": null,
            "grid_column": null,
            "grid_gap": null,
            "grid_row": null,
            "grid_template_areas": null,
            "grid_template_columns": null,
            "grid_template_rows": null,
            "height": null,
            "justify_content": null,
            "justify_items": null,
            "left": null,
            "margin": null,
            "max_height": null,
            "max_width": null,
            "min_height": null,
            "min_width": null,
            "object_fit": null,
            "object_position": null,
            "order": null,
            "overflow": null,
            "overflow_x": null,
            "overflow_y": null,
            "padding": null,
            "right": null,
            "top": null,
            "visibility": null,
            "width": null
          }
        },
        "73d43d7b66fa4dffb36988a68a397e93": {
          "model_module": "@jupyter-widgets/controls",
          "model_name": "DescriptionStyleModel",
          "model_module_version": "1.5.0",
          "state": {
            "_model_module": "@jupyter-widgets/controls",
            "_model_module_version": "1.5.0",
            "_model_name": "DescriptionStyleModel",
            "_view_count": null,
            "_view_module": "@jupyter-widgets/base",
            "_view_module_version": "1.2.0",
            "_view_name": "StyleView",
            "description_width": ""
          }
        },
        "da6b4964b30f4f83978cd41931174524": {
          "model_module": "@jupyter-widgets/base",
          "model_name": "LayoutModel",
          "model_module_version": "1.2.0",
          "state": {
            "_model_module": "@jupyter-widgets/base",
            "_model_module_version": "1.2.0",
            "_model_name": "LayoutModel",
            "_view_count": null,
            "_view_module": "@jupyter-widgets/base",
            "_view_module_version": "1.2.0",
            "_view_name": "LayoutView",
            "align_content": null,
            "align_items": null,
            "align_self": null,
            "border": null,
            "bottom": null,
            "display": null,
            "flex": null,
            "flex_flow": null,
            "grid_area": null,
            "grid_auto_columns": null,
            "grid_auto_flow": null,
            "grid_auto_rows": null,
            "grid_column": null,
            "grid_gap": null,
            "grid_row": null,
            "grid_template_areas": null,
            "grid_template_columns": null,
            "grid_template_rows": null,
            "height": null,
            "justify_content": null,
            "justify_items": null,
            "left": null,
            "margin": null,
            "max_height": null,
            "max_width": null,
            "min_height": null,
            "min_width": null,
            "object_fit": null,
            "object_position": null,
            "order": null,
            "overflow": null,
            "overflow_x": null,
            "overflow_y": null,
            "padding": null,
            "right": null,
            "top": null,
            "visibility": null,
            "width": null
          }
        },
        "d3819dff44044c74af9847f34ff28991": {
          "model_module": "@jupyter-widgets/controls",
          "model_name": "ProgressStyleModel",
          "model_module_version": "1.5.0",
          "state": {
            "_model_module": "@jupyter-widgets/controls",
            "_model_module_version": "1.5.0",
            "_model_name": "ProgressStyleModel",
            "_view_count": null,
            "_view_module": "@jupyter-widgets/base",
            "_view_module_version": "1.2.0",
            "_view_name": "StyleView",
            "bar_color": null,
            "description_width": ""
          }
        },
        "956041e61f1d4c2aa6b7491692c23c57": {
          "model_module": "@jupyter-widgets/base",
          "model_name": "LayoutModel",
          "model_module_version": "1.2.0",
          "state": {
            "_model_module": "@jupyter-widgets/base",
            "_model_module_version": "1.2.0",
            "_model_name": "LayoutModel",
            "_view_count": null,
            "_view_module": "@jupyter-widgets/base",
            "_view_module_version": "1.2.0",
            "_view_name": "LayoutView",
            "align_content": null,
            "align_items": null,
            "align_self": null,
            "border": null,
            "bottom": null,
            "display": null,
            "flex": null,
            "flex_flow": null,
            "grid_area": null,
            "grid_auto_columns": null,
            "grid_auto_flow": null,
            "grid_auto_rows": null,
            "grid_column": null,
            "grid_gap": null,
            "grid_row": null,
            "grid_template_areas": null,
            "grid_template_columns": null,
            "grid_template_rows": null,
            "height": null,
            "justify_content": null,
            "justify_items": null,
            "left": null,
            "margin": null,
            "max_height": null,
            "max_width": null,
            "min_height": null,
            "min_width": null,
            "object_fit": null,
            "object_position": null,
            "order": null,
            "overflow": null,
            "overflow_x": null,
            "overflow_y": null,
            "padding": null,
            "right": null,
            "top": null,
            "visibility": null,
            "width": null
          }
        },
        "e14f370970df46f08e98c78de8af6935": {
          "model_module": "@jupyter-widgets/controls",
          "model_name": "DescriptionStyleModel",
          "model_module_version": "1.5.0",
          "state": {
            "_model_module": "@jupyter-widgets/controls",
            "_model_module_version": "1.5.0",
            "_model_name": "DescriptionStyleModel",
            "_view_count": null,
            "_view_module": "@jupyter-widgets/base",
            "_view_module_version": "1.2.0",
            "_view_name": "StyleView",
            "description_width": ""
          }
        }
      }
    }
  },
  "cells": [
    {
      "cell_type": "markdown",
      "metadata": {
        "id": "view-in-github",
        "colab_type": "text"
      },
      "source": [
        "<a href=\"https://colab.research.google.com/github/stevenkolawole/indaba-low-resource-nlp-prac/blob/main/llm_Incontext_learning_w_evaluation.ipynb\" target=\"_parent\"><img src=\"https://colab.research.google.com/assets/colab-badge.svg\" alt=\"Open In Colab\"/></a>"
      ]
    },
    {
      "cell_type": "code",
      "execution_count": null,
      "metadata": {
        "id": "HDgKzZVi_0mO"
      },
      "outputs": [],
      "source": [
        "import os\n",
        "from openai import OpenAI"
      ]
    },
    {
      "cell_type": "code",
      "source": [
        "import openai\n",
        "from datasets import load_dataset\n",
        "from rouge_score import rouge_scorer\n",
        "from tqdm import tqdm\n",
        "import numpy as np"
      ],
      "metadata": {
        "id": "Y-mDS8nWzaH1"
      },
      "execution_count": null,
      "outputs": []
    },
    {
      "cell_type": "code",
      "source": [
        "client = OpenAI(api_key = os.environ.get('API_KEY'))"
      ],
      "metadata": {
        "id": "ui3wPXMA_6gi"
      },
      "execution_count": null,
      "outputs": []
    },
    {
      "cell_type": "code",
      "source": [
        "# Load the dataset\n",
        "dataset = load_dataset(\"Goud/Goud-sum\", split=\"train\")"
      ],
      "metadata": {
        "colab": {
          "base_uri": "https://localhost:8080/",
          "height": 345,
          "referenced_widgets": [
            "498c1969b8184cbb8bb4c95ecbd5faa1",
            "b8549eec00a2402aa9e7a174252b0081",
            "f1d9f7b9cd0740d3b2c4077d248d5e75",
            "c5e5ef3e361641a8b1fd6f25c0e632da",
            "cd7a17512508465386a4d12b3fb6e27f",
            "5a9ad5f0d8524dcf928515246c604cf3",
            "d418fae04457471495f2f8828dcdd8fd",
            "a018dfe3b8c04bec874565baf6b90696",
            "bcacbfe8e4a447ab928bac3790dd1110",
            "d0683a98506d4a09abfb64685bdb27f3",
            "e40f8381325e4afbb278e2dfe210b5a4",
            "ddc9665802d84ffbb62e7c74034e166a",
            "30e7a9c6cce7494698402fca0e6baa43",
            "829cd77390444f059cb22e496145823c",
            "c4dea34c9b9b4ecfb446ce5ef4543f58",
            "11097aa88e1e4be4810b1dd5c8615ded",
            "b22aff22b5b24a559b79356b117c8712",
            "54475d251c3a425a82df943266b59a74",
            "f72e2507c6b641908980f3cf5f3d4f08",
            "56703639a7a74e0d885aa1a4f1e80ab1",
            "a6e8c0a0d77f496ba7451dd9f36c10e1",
            "8ee3ce1ec16d40d287abc4a19b39ebef",
            "d5540b7446d145ef9a663543aea598fc",
            "96add6c1965d434bb8c56b470e5c7bab",
            "e3dce4d6ab7b445c8ade2e282e283e33",
            "2af666fef84243f1822e6eed8a850f4b",
            "19a35fdbb9b449a49e4bd422482e4181",
            "4fc69440d96c4ce896c6bc6730d14bd0",
            "c2bbcf4ef80641609ea3551d3c97ae06",
            "f2bf8ed1e0eb4441a0eddb5cb0d4282e",
            "d79bb8cdadf24167ae5034b8a35815a1",
            "2385cfa9506e461badd6f52e9a6b3d9d",
            "c07f3fc341294950bb6a4f383583fb89",
            "d1d44e2e878b4e9185d6a8a85580a582",
            "b3c1d6fd59c54fa59815e7217577b974",
            "276b7162c5ad41e8b903bc18762b64ba",
            "c799229e368c4b75b00f8f46dcf8048c",
            "734d2eee2f3e489bad362baee03971f3",
            "0c0ab28635ef468886232535dbfdbfc6",
            "f9508ed8d8bf408188f3392eb5cf7f42",
            "98a2e9a12910455b8e6556ef8cb94708",
            "258810658ff9403d8955f736f743129d",
            "ff3f79a210b54b7aaab41bdcf84a9c9e",
            "823e16d30aa042078952b63b69ab360e",
            "23217861b73b42fcaa0e907989a62aeb",
            "6a4e2cb8cee246d7a9bc08c1b18df60f",
            "708eb504a7d04b8ba5439ced24296ee4",
            "3415ff227f9f4a69ac035cec1628058d",
            "958aa2297f2743bca99e82f07096a1cf",
            "798ae72f1fd541f9a298200668352896",
            "1357853f95214017938599304abbb7b3",
            "a5dbff808e504b37b94bc4eb113358ed",
            "666263daa97e4283b1e9617469bc966a",
            "c9ccc81c6f0b4eb4903d6e98f7e24606",
            "3bd05f0cba8d4f728bfc8c861135cbcd",
            "c12340902ccd44969f4fa27069dfd9b5",
            "70065fb02cd6421bbd37407b88ad5fa3",
            "a1a535ba2bba433d98d9f8a4b64058b0",
            "558184093d70472fbbd5a6c9e4b4cadc",
            "33b6e01ab754413a83cdf389c1b027f7",
            "cc6bb8b13d744c82b975e3ee62d09d85",
            "75cf8c428062480e9bdea18f9c18d46f",
            "7b16c266382a437fb26991fcd0381466",
            "f958d777f0a54f5f81ffb9ecec15c9f8",
            "a94efba3c3a3453ea34c68d7bd83aa4c",
            "83397be46d534fe4ad68ddf416d730f1",
            "5222d41c1f61443681bb1967563a741a",
            "80ad273203f74672ba657bb9731d1851",
            "42e9f1cd26d94316b6c9053c6cab5472",
            "3ad514025b044fa4b08b351ff7ac3c86",
            "fbe1372b04c841258c1f9851f66067ec",
            "b4bc4c882ea84839a21a467d53a74349",
            "73d43d7b66fa4dffb36988a68a397e93",
            "da6b4964b30f4f83978cd41931174524",
            "d3819dff44044c74af9847f34ff28991",
            "956041e61f1d4c2aa6b7491692c23c57",
            "e14f370970df46f08e98c78de8af6935"
          ]
        },
        "id": "ajETpMCQzePH",
        "outputId": "3d4d78bd-2c75-49dd-d6ca-dbb1e3a3ab93"
      },
      "execution_count": null,
      "outputs": [
        {
          "output_type": "stream",
          "name": "stderr",
          "text": [
            "/usr/local/lib/python3.10/dist-packages/huggingface_hub/utils/_token.py:89: UserWarning: \n",
            "The secret `HF_TOKEN` does not exist in your Colab secrets.\n",
            "To authenticate with the Hugging Face Hub, create a token in your settings tab (https://huggingface.co/settings/tokens), set it as secret in your Google Colab and restart your session.\n",
            "You will be able to reuse this secret in all of your notebooks.\n",
            "Please note that authentication is recommended but still optional to access public models or datasets.\n",
            "  warnings.warn(\n"
          ]
        },
        {
          "output_type": "display_data",
          "data": {
            "text/plain": [
              "Downloading readme:   0%|          | 0.00/4.25k [00:00<?, ?B/s]"
            ],
            "application/vnd.jupyter.widget-view+json": {
              "version_major": 2,
              "version_minor": 0,
              "model_id": "498c1969b8184cbb8bb4c95ecbd5faa1"
            }
          },
          "metadata": {}
        },
        {
          "output_type": "display_data",
          "data": {
            "text/plain": [
              "Downloading data:   0%|          | 0.00/287M [00:00<?, ?B/s]"
            ],
            "application/vnd.jupyter.widget-view+json": {
              "version_major": 2,
              "version_minor": 0,
              "model_id": "ddc9665802d84ffbb62e7c74034e166a"
            }
          },
          "metadata": {}
        },
        {
          "output_type": "display_data",
          "data": {
            "text/plain": [
              "Downloading data:   0%|          | 0.00/19.6M [00:00<?, ?B/s]"
            ],
            "application/vnd.jupyter.widget-view+json": {
              "version_major": 2,
              "version_minor": 0,
              "model_id": "d5540b7446d145ef9a663543aea598fc"
            }
          },
          "metadata": {}
        },
        {
          "output_type": "display_data",
          "data": {
            "text/plain": [
              "Downloading data:   0%|          | 0.00/19.6M [00:00<?, ?B/s]"
            ],
            "application/vnd.jupyter.widget-view+json": {
              "version_major": 2,
              "version_minor": 0,
              "model_id": "d1d44e2e878b4e9185d6a8a85580a582"
            }
          },
          "metadata": {}
        },
        {
          "output_type": "display_data",
          "data": {
            "text/plain": [
              "Generating train split:   0%|          | 0/139288 [00:00<?, ? examples/s]"
            ],
            "application/vnd.jupyter.widget-view+json": {
              "version_major": 2,
              "version_minor": 0,
              "model_id": "23217861b73b42fcaa0e907989a62aeb"
            }
          },
          "metadata": {}
        },
        {
          "output_type": "display_data",
          "data": {
            "text/plain": [
              "Generating validation split:   0%|          | 0/9497 [00:00<?, ? examples/s]"
            ],
            "application/vnd.jupyter.widget-view+json": {
              "version_major": 2,
              "version_minor": 0,
              "model_id": "c12340902ccd44969f4fa27069dfd9b5"
            }
          },
          "metadata": {}
        },
        {
          "output_type": "display_data",
          "data": {
            "text/plain": [
              "Generating test split:   0%|          | 0/9497 [00:00<?, ? examples/s]"
            ],
            "application/vnd.jupyter.widget-view+json": {
              "version_major": 2,
              "version_minor": 0,
              "model_id": "5222d41c1f61443681bb1967563a741a"
            }
          },
          "metadata": {}
        }
      ]
    },
    {
      "cell_type": "code",
      "source": [
        "# Function to generate summaries\n",
        "def generate_summary(text, examples, model='gpt-4o'):\n",
        "    prompt = \"Generate headlines for the following Moroccan Darija text articles as shown in the examples:\\n\\n\"\n",
        "\n",
        "    # Add few-shot examples\n",
        "    for example in examples:\n",
        "        prompt += f\"Text: {example['article']}\\n\"\n",
        "        prompt += f\"Headline: {example['headline']}\\n\\n\"\n",
        "\n",
        "    prompt += f\"Text: {text}\\nHeadline:\"\n",
        "\n",
        "    response = client.chat.completions.create(model=\"gpt-4o\",\n",
        "                                              messages=[{\"role\": \"user\", \"content\": prompt}])\n",
        "\n",
        "    return response.choices[0].message.content.strip()\n"
      ],
      "metadata": {
        "id": "lu2yFoLszz7e"
      },
      "execution_count": null,
      "outputs": []
    },
    {
      "cell_type": "code",
      "source": [
        "# Initialize ROUGE scorer\n",
        "scorer = rouge_scorer.RougeScorer(['rouge1', 'rouge2', 'rougeL'], use_stemmer=True)\n",
        "\n",
        "# Select a subset of the dataset for evaluation\n",
        "eval_subset = dataset.select(range(50))\n",
        "\n",
        "# Select few-shot examples for in-context learning\n",
        "few_shot_examples = dataset.select(range(51, 61))\n",
        "\n",
        "# Generate summaries and calculate ROUGE scores\n",
        "rouge_scores = []\n",
        "\n",
        "for item in tqdm(eval_subset):\n",
        "    generated_summary = generate_summary(item['article'], few_shot_examples, model='gpt-4o-mini')\n",
        "    print('****')\n",
        "    print(\"Actual Article: \", item['article'])\n",
        "    print(\"Generated Headline: \", generated_summary)\n",
        "    print()\n",
        "    scores = scorer.score(item['headline'], generated_summary)\n",
        "    rouge_scores.append(scores)\n",
        "\n",
        "# Calculate average ROUGE scores\n",
        "avg_rouge1 = np.mean([score['rouge1'].fmeasure for score in rouge_scores])\n",
        "avg_rouge2 = np.mean([score['rouge2'].fmeasure for score in rouge_scores])\n",
        "avg_rougeL = np.mean([score['rougeL'].fmeasure for score in rouge_scores])\n",
        "\n",
        "print(f\"Average ROUGE-1: {avg_rouge1:.4f}\")\n",
        "print(f\"Average ROUGE-2: {avg_rouge2:.4f}\")\n",
        "print(f\"Average ROUGE-L: {avg_rougeL:.4f}\")"
      ],
      "metadata": {
        "colab": {
          "base_uri": "https://localhost:8080/"
        },
        "id": "y3lBfX3Iz3p1",
        "outputId": "91326f75-e556-4f1f-a868-c4b867f4a7b5"
      },
      "execution_count": null,
      "outputs": [
        {
          "output_type": "stream",
          "name": "stderr",
          "text": [
            "  2%|▏         | 1/50 [00:01<01:07,  1.38s/it]"
          ]
        },
        {
          "output_type": "stream",
          "name": "stdout",
          "text": [
            "****\n",
            "Actual Article:  منير العلمي من مراكش: تحول فضاء مقر الغرفة الفلاحية بمدينة مراكش، الذي يحتضن في هذه الأثناء، انتخاب رئيس وأعضاء المكتب المسير للغرفة الفلاحية بجهة مراكش آسفي، إلى حلبة للاشتباكات والملاسنات، بعد اشتداد الخلاف بين البرلمانيين حميد العكرود وعمر خفيف، اللذين ينتميان إلى حزب التجمع الوطني للأحرار، ما كاد يعصف بالاجتماع بعد انطلاق شرارة الاشتباك بالأيادي التي أجهضت في مهدها بتدخل بعض الحاضرين. وحسب شهود عيان، فإن عمر خفيف، الذي يشغل رئيس جماعة أكفاي، ومدعم الحبيب بن الطالب المنسق الاقليمي لحزب الأصالة والمعاصر الذي يتجه لتولي رئاسة الغرفة لولاية تانية، رفض دخول حميد العكرود للمنافسة على رئاسة الغرفة، واصفا إياه بـ “الأمي الذي لايفقه شيئا”، ليدخل الطرفان في ملاسنات كلامية قبل أن يتحول الصراع إلى تشابك بالأيدي. \n",
            "Generated Headline:  اشتباكات وملاسنات بمقر الغرفة الفلاحية بمراكش بين برلمانيين من حزب التجمع الوطني للأحرار\n",
            "\n"
          ]
        },
        {
          "output_type": "stream",
          "name": "stderr",
          "text": [
            "\r  4%|▍         | 2/50 [00:02<01:09,  1.45s/it]"
          ]
        },
        {
          "output_type": "stream",
          "name": "stdout",
          "text": [
            "****\n",
            "Actual Article:  لا حديث في الجسم القضائي الوطني سوى عن الحكم القضائي الذي أصدرته المحكمة الابتدائية بالرباط، في حق الشركة الوطنية للنقل واللوجيستيك، التابعة لوزارة التجهيز والنقل واللوجيستيك والما، والقاضي بأداء هذه الأخيرة لشركة “صوناصر” للبناء، الكائن مقرها الاجتماعي بالمنطقة الصناعية سيدي بوزكري بمكناس، تعويضا ماليا يفوق 13 مليار سنتيم جراء الأضرار التي تسببت لها في الدعاوى القضائية التي رفعتها ضدها، والتي أدت إلى أحكام بالحجز على شاحنتها، معداتها، الاتها ووسائل اشتغالها، فضلا عن جميع حساباتها البنكية وأيضا ديونها لدى الغير. وحسب مصادر موثوقة، فإن قاضي الحكم بابتدائية الرباط، اعتمد في قراره كليا، على تقرير الخبرة المنجزة حول القضية. تفاصيل أخرى في عدد يوم غد. \n",
            "Generated Headline:  الشركة الوطنية للنقل واللوجستيك محكومة بأداء تعويض يفوق 13 مليار سنتيم لشركة \"صوناصر\"\n",
            "\n"
          ]
        },
        {
          "output_type": "stream",
          "name": "stderr",
          "text": [
            "\r  6%|▌         | 3/50 [00:04<01:18,  1.67s/it]"
          ]
        },
        {
          "output_type": "stream",
          "name": "stdout",
          "text": [
            "****\n",
            "Actual Article:  بانت رواية جديدة فقضية عدم مشاركة إسبانيا فمناورات الأسد الإفريقي 2021. ففي الوقت الذي سربت جهات رسمية في مدريد إلى «إلباييس» معطيات تفيد بأنها هي لي مبغاتش تكون حاضرة فهاد التدريبات الأكبر التي تجري في إفريقيا على الإطلاق، والتي ستقام في الفترة من 7 إلى 18 يونيو في المغرب، وتونس، والسنغال، كشفت مجلة «مغرب انتيليجانس»، في خبر انفردت بنشره، بأن المغرب هو من عارض تكون الصبليون مشاركة فهاد المناورات، على خلفية الأزمة الدبلوماسية القائمة حاليا. وأضافت المجلة أن الرباط لا تريد إعطاء الانطباع بأن العلاقات بين البلدين ستستأنف بشكل طبيعي قبل تسوية قضية المدعو إبراهيم غالي، زعيم جبهة «البوليساريو» الانفصالية، والذي كان وراء تصعيد دبلوماسي خطير بين المملكة وإسبانيا، بعد افتضاح أمر إدخاله سرا وبجوز سفر مزور إلى مستشفى بلوغرونيو من أجل الاستشفاء. وسبق للمسؤولين المغاربة، حسب المصدر نفسه، أن ألمحوا بالفعل إلى تجميد محتمل في التعاون الأمني ​​مع إسبانيا، والذي قد يكون له تداعيات مؤسفة ليس فقط على الجار في الشمال، ولكن أيضا على كل أوروبا. وكانت «إلباييس» قدمت رواية أخرى، في هذا الصدد، بالكشف عن أن وزارة الدفاع الاسبانية رفضت دعوة القيادة الأمريكية في إفريقيا متذرعة بأسباب تتعلق بالميزانية، لكن مصادر حكومية أسبانية أقرت بأن السبب الأساسي هو أن جزءا كبيرا من هذه التدريبات، التي تشارك فيها إسبانيا كل عام، ستجرى لأول مرة في الصحراء المغربية. وأفادت الصحيفة ذاتها أن إرسال جنود إسبان إلى هناك من شأنه إضفاء الشرعية على ما وصفته ب «احتلال المستعمرة السابقة». ويشارك في المناورات التي نظمتها القيادة الأمريكية لأفريقيا، بالتعاون مع المغرب، 7800 جندي من 9 دول، و67 طائرة ومدربين بحريين، وتبلغ تكلفتها 28 مليون دولار. وأبرزت أن إسبانيا تشارك كل عام في المناورات العسكرية المذكورة، إلا أن وزارة دفاعها رفضت هذا العام الدعوة، مدعية أن تعديلات الميزانية تجبرها على تحديد أولويات التمارين التي تشارك فيها، ولم ترسل حتى مراقبين، كما فعلت 20 دولة أخرى. وأشارت إلى أن مناورات الأسد الأفريقي في الصحراء المغربية خطوة أخرى و دعم جديد من الادارة الامريكية لمغربية الصحراء، الذي أقره الرئيس السابق دونالد ترامب في 10 دجنبر. \n",
            "Generated Headline:  Headline: المغرب عارض مشاركة إسبانيا فـ المناورات العسكرية \"الأسد الإفريقي 2021\" احتجاجا على استقبال زعيم البوليساريو\n",
            "\n"
          ]
        },
        {
          "output_type": "stream",
          "name": "stderr",
          "text": [
            "\r  8%|▊         | 4/50 [00:06<01:20,  1.75s/it]"
          ]
        },
        {
          "output_type": "stream",
          "name": "stdout",
          "text": [
            "****\n",
            "Actual Article:  مصطفى الشاذلي: عقد حسام البدري، المدير الفني للنادي الأهلي، جلسة خاصة مع مهاج الأسود المغربي وليد أزارو، من أجل تحفيزه قبل مباراة طلائع الجيش اليوم في الأسبوع الأول من مسابقة الدوري. وحرص البدري على مطالبه اللاعب بالظهور بشكل جيد خلال مباراه اليوم باعتبارها البطوله الاخيرة للفريق قبل مواجهة الترجمة التونسى السبت المقبل في ذهاب دور الثمانية لبطوله أفريقيا. ويسعى البدرى لتجهيز أزارو لقياده هجوم الأحمر خلال المواجهة الافريقية. \n",
            "Generated Headline:  Headline: حسام البدري أطّى تعليمات لأزارو وأحفزو باش يبان مزيان فماتش طلايع الجيش قبل مواجهة الترجي التونسي\n",
            "\n"
          ]
        },
        {
          "output_type": "stream",
          "name": "stderr",
          "text": [
            "\r 10%|█         | 5/50 [00:08<01:14,  1.65s/it]"
          ]
        },
        {
          "output_type": "stream",
          "name": "stdout",
          "text": [
            "****\n",
            "Actual Article:  كود سبور: كشفت وسائل الإعلام العالمية، صباح اليوم الثلاثاء، أن قوات الشرطة الفرنسية ألقت القبض على البرتغالى كريستيانو رونالدو لاعب ريال مدريد بتهمة التبول في الشارع، وهو ما يخالف القانون. يقضي النجم البرتغالي عطلة قصيرة، بسانت تروبيز الفرنسية، رفقة بعض الأصدقاء قبل الالتحاق بمعسكر المنتخب البرتغالي. \n",
            "Generated Headline:  Headline: رونالدو جابتها في راسو.. البوليس ديال فرنسا شدوه حيت تبول في الشارع\n",
            "\n"
          ]
        },
        {
          "output_type": "stream",
          "name": "stderr",
          "text": [
            "\r 12%|█▏        | 6/50 [00:09<01:05,  1.48s/it]"
          ]
        },
        {
          "output_type": "stream",
          "name": "stdout",
          "text": [
            "****\n",
            "Actual Article:  عاينت “گود” اليوم انشقاق كبير في القنطرة الترابية المنصوبة على واد الساقية الحمراء، حيث تظهر حفر كبيرة تهدد المارة والقائمين على الأشغال، بسبب قوة الضغط الناتج عن ارتفاع منسوب المياه، الأمر الذي أصبح ينذر بانهيار كامل للقنطرة الوحيدة المتبقية. ويبدو أن مديرية التجهيز لم تلتقط الرسائل المتكررة من طرف المواطنين، من أجل التدخل العاجل لإصلاح القنطرة المهددة بالانهيار، والوحيدة التي تربط مدينة العيون بشمال المملكة. يذكر أن “گود”، قد أشارت في وقت سابق لأصوات المواطنون، وهم ينتقدون إهمال وزارة التجهيز للقنطرة المنهارة، وحذروا من سقوطها والأعطاب التي لحقت بها، إلى ذلك قامت السلطات المحلية والأمنية بوقف حركة المرور في وجه السيارات الكبيرة والخفيفة، مخافة وقوع كارثة مرتقبة. \n",
            "Generated Headline:  Headline: قنطرة واد الساقية الحمراء مهددة بالانهيار ووزارة التجهيز مازال ممسوقاش!\n",
            "\n"
          ]
        },
        {
          "output_type": "stream",
          "name": "stderr",
          "text": [
            "\r 14%|█▍        | 7/50 [00:10<01:04,  1.49s/it]"
          ]
        },
        {
          "output_type": "stream",
          "name": "stdout",
          "text": [
            "****\n",
            "Actual Article:  تمكنت عناصر الشرطة لمنطقة عين قادوس بن دباب بفاس، نتيجة للتغطية بالمحطة الطرقية، من إلقاء القبض على 3 أشخاص يشتبه تورطهم في الحيازة والاتجار في المواد الغذائية والسلع المهربة، وهذه من السلع الخاضعة لمبرر الأصل بدون سند قانوني. وكشف مصدر مطلع، لـ”كود”، أنه تم حجز من داخل الحافلة للنقل ما يناهز طنين من المواد الغدائية المختلفة مكونة من مصبرات ، زبيب مجفف، أرز، توابل، حلويات، شوكولاتة، أغطية، أدوات خلط منزلية، سكاكين من الحجم الصغير، علبتين من الدواء، وهو ما يشكل أيضا مخالفة للنظم المتعلقة بالنقل. وأشار المصدر إلى أن نقل حمولة اكتر من 2 طن يؤثر سلبا على السير العادي ولجولان للحافلة. ومن أجل البحث أحيل المشتبه فيهم على المصلحة الولائية للشرطة القضائية حيث يخضعون لبحث دقيق ليحالوا بعدها على العدالة ، مع إحالة عينات من تلك المواد الغدائية المهربة على مكتب الصحة من أجل النظر في صلاحيتها . \n",
            "Generated Headline:  Headline: ضبط 3 أشخاص بحوزتهم طنين من المواد الغذائية المهربة في محطة طرقية بفاس - تفاصيل حصرية\n",
            "\n"
          ]
        },
        {
          "output_type": "stream",
          "name": "stderr",
          "text": [
            "\r 16%|█▌        | 8/50 [00:12<01:08,  1.63s/it]"
          ]
        },
        {
          "output_type": "stream",
          "name": "stdout",
          "text": [
            "****\n",
            "Actual Article:  سيدخل المنتخب المغربي اليوم مرحلة الاستعداد المكثف لمباراة يوم الأربعاء المقبل أمام منتخب ليبيا منافسه في مباراة نصف النهاية المرتقبة بعد غذ الأربعاء ضمن بطولة إفريقيا للاعبين المحليين التي يستضيفها المغرب إلى غاية الرابع من فبراير المقبل، وذلك في الساعة الرابعة والنصف عصرا في الملعب الملحق لملعب الأمير مولاي عبد الله في الرباط. وقد أجرى المنتخب المغربي أمس حصة تدريبية خفيفة بعد فوزه على المنتخب النامبي في دور ربع النهاية \n",
            "Generated Headline:  Headline: المنتخب المغربي كيدخل مرحلة الاستعداد المكثف لمواجهة ليبيا في نصف نهائي الشان\n",
            "\n"
          ]
        },
        {
          "output_type": "stream",
          "name": "stderr",
          "text": [
            "\r 18%|█▊        | 9/50 [00:14<01:05,  1.60s/it]"
          ]
        },
        {
          "output_type": "stream",
          "name": "stdout",
          "text": [
            "****\n",
            "Actual Article:  تدخل اليوم الاثنين الحركة الاحتجاجية التي تعيش على وقعها دواوير منطقة كرامة التابعة لإقليم ميدلت يومها الخامس, دون أن يبدو في الأفق أن الساكنة ستتراجع عن مطلبها الرئيس المتمثل في المطالبة بزيارة ملكية للمنطقة التي تعيش تهميشا و خصاصا مهولين على مستوى خدماتها الاجتماعية وبنياتها الأساسية. و كانت الاحتجاجات قد اندلعت يوم الخميس الماضي, بعد نصب سكان دوار المو خيمة امام مقر جماعة كرامة و الاعتصام بداخلها للمطالبة بفك العزلة عن الدوار, قبل أن تضم ساكنة كرامة المركز للمعركة الاحتجاجية و تخوض إضرابا عاما تم خلاله إغلاق كافة المحلات التجارية و المقاهي و المرافق الادارية بالقيادة و الجماعة,موازاة مع حلول العشرات من عناصر القوات المساعدة و الدرك الملكي بالمركز القروي, الذي رفض أبناؤه مبادرة حوار أطلقتها السلطات المحلية مصرين على شرط واحد لرفع الإضراب: “الزيارة الملكية” ولا شيء غيرها. \n",
            "Generated Headline:  **Headline:** احتجاجات دواوير كرامة تدخل اليوم الخامس والساكنة تطالب بزيارة ملكية لفك العزلة عن المنطقة\n",
            "\n"
          ]
        },
        {
          "output_type": "stream",
          "name": "stderr",
          "text": [
            "\r 20%|██        | 10/50 [00:15<01:00,  1.52s/it]"
          ]
        },
        {
          "output_type": "stream",
          "name": "stdout",
          "text": [
            "****\n",
            "Actual Article:  لعشاق السيارات الكهربائية المفتقدين لشذا النفط صممت شركة “فورد” عطراً برائحة البنزين، ولعبت على التسمية كما على شكل القارورة فأطلقت على المنتج تسمية “ماك أو” متلاعبة على وتر تسمية سياراتها “ماك إي”، واعتمدت تصميم مضخة الوقود للقارورة. وأجرت شركة فورد، وفقاً لما ذكر موقع “يانكو ديزاين” عقب خطوة الانتقال التدريجي نحو إنتاج سيارات كهربائية، استطلاعاً للرأي لمعرفة ما أكثر ما يفتقده العملاء في السيارات المزودة بالوقود. وجاءت الإجابات لتكشف بأن “واحدا من خمسة سائقين أعربوا عن حنينهم لرائحة البنزين مع التحول إلى قيادة السيارات الكهربائية، وزعم ما يقارب 70 بالمئة منهم بأنه سيفتقد لرائحة البترول إلى درجة معينة”. \n",
            "Generated Headline:  Headline: عشاق السيارات الكهربائية اللي كيوحشهم ريحة البنزين.. شركة “فورد” دارت لكم عطر برائحة البترول!\n",
            "\n"
          ]
        },
        {
          "output_type": "stream",
          "name": "stderr",
          "text": [
            "\r 22%|██▏       | 11/50 [00:17<01:09,  1.78s/it]"
          ]
        },
        {
          "output_type": "stream",
          "name": "stdout",
          "text": [
            "****\n",
            "Actual Article:  اعتبرت الصحافة الألمانية أن الإسباني بيب غوارديولا، مدرب فريق بايرن ميونيخ، هو أول مدرب مثقف في بطولة ال ، بعد أن قرأ أشعارا للكاتب الكتالوني ميكيل مارتي إي بول في دار الأدب بمدينة ميونيخ. وحظى هذا اللقاء الأدبي باهتمام إعلامي غير معتاد بعد أن قدم المدرب الإسباني أمس الثلاثاء عرضا شعريا بحضور 300 شخص استنفدوا بطاقات الدخول إلى هذا المركز الثقافي. وذكر المدرب، الذي أحرز مع الفريق البافاري لقب البطولة الألمانية، بأن صداقة وطيدة كانت تربطه بمارتي إي بول حتى وفاة الأخير عام 2003. وكانت هذه المرة الأولى التي يوجه فيها هذا المركز الثقافي المرموق في ميونيخ دعوة لمدرب كرة قدم في ال ، بحسب ما ذكرته صحيفة ، مضيفة أن غوارديولا ناوب بين قراءته للشعر مع الإجابة على أسئلة مرتبطة بعمله مع فريق بايرن ميونيخ. وأوضح المدرب أن “الشعر أمرا يتسم بالخصوصية”، مذكرا من ناحية بعلاقته الشخصية بالشاعر الراحل، ومعربا عن امتنانه من ناحية أخرى لبطل ألمانيا الذي يدربه وخاصة لاعبيه. \n",
            "Generated Headline:  Headline: مدرب بايرن ميونيخ بيب غوارديولا يتألق كمثقف في ميونيخ بعد قراءة أشعار الكاتب الكتالوني ميكيل مارتي إي بول\n",
            "\n"
          ]
        },
        {
          "output_type": "stream",
          "name": "stderr",
          "text": [
            "\r 24%|██▍       | 12/50 [00:19<01:05,  1.71s/it]"
          ]
        },
        {
          "output_type": "stream",
          "name": "stdout",
          "text": [
            "****\n",
            "Actual Article:  منذ مساء أمس وإلى حدود الساعة لا يزال موضوع مقتل الشاب حمزة الطرشي يسيطر على أحاديث المغاربة، حيث لا زال الجميع يحلل ويفسر كيف وقعت الحادثة ومن هم القتلة. في البداية قالت المصادر الرسمية أن الامر يتعلق بتصفية حسابات، وسارعت الى تفنيذ أي ادعاء قد يربط الجريمة بالارهاب، ثم سرعان ما ستتناسل رواية أخرى تفيد بأن الجريمة قد يكون ضحيتها ليس هو المقصود، والحال هنا أن الامر غير متعلق بتصريح رسمي بقدر ما هو تصريحات من مصادر مقربة من التحقيق. وتفيد هذه الرواية بأن مالك المقهى وهو “الفشتالي” كان الشخص المقصود، وتم تحديد تواجده عبر تقنية “جي بي اس”، ثم بعد ذلك قام بتغيير مكانه فملأ مكانه الضحية الذي قتل بدلا عنه. هنا يتوجب النظر الى عدة نقاط تضعف الرواية إلى حد كبير، أولها أن القتلة لا يعرفون الهدف بشكل واضح يجلعهم يميزونه عن الهالك لكنهم وفي الوقت الذي لم يستطيعوا فيه الحصول على صورته، تمكنوا من تتبعه عبر تقنية جي بي اس وتحديد مكانه بشكل لا يصدق لدرجة أنهم استطاعوا تحديد الطاولة التي يجلس فيها دون حتى أن يخطؤوا مترا واحدا وهو الامر الذي يعتبر مستحيلا تقنيا. النقطة الثانية متعلقة بشيء جوهري ومهم في التحقيق، وهي أن الفشتالي مالك المقهى شخص قصير وأصلع حسب مصادر “كود”، فيما الضحية شاب قوي البنية وله شعر وحتى اذا اعتمد القتلة المأجورون على الوصف لتمييز الضحية عن باقي الاهداف فإنهم سيعرفون أن الهدف غير موجود في المقهى وفي أي حال فإن القتلة المأجورون يقتلون بناء على اليقين وليس على الشبه، لأن قتل شخص اخر غير الهدف معناه أن القاتل ليس محترفا ولن يتعامل معه احدا في المستقبل، بالاضافة الى أن خطأه سينبه الهدف إلى أنه مستهدف. ثالث نقطة وهي أن القتلة المأجورون لا يقتلون من أجل القتل، بل يقتلون من أجل المال، بمعنى أنه إذا كان الهدف شخص واحد فلا يوجد قاتل مأجور يحاول قتل فتاة وشاب مرافقين له، بل كانوا سيكتفون بقتل الهدف لايصال رسالتهم. زد على ذلك أن القتلة المحترفون بأوروبا والذين ينتمي اغلبهم الى دول البلقان لا يمكن ان يستهدفوا شخصا دون الحصول على الاقل على صورته ومراقبته، ومعرفة تحركاته، مع الاشارة الى أن تحديد مكان وجود الهدف ب جي بي اس يكون للاشخاص الذين يعرفون انهم مستهدفين وليس لشخص يجلس في مقهاه دون ادنى خوف. وما يزيد من تأكيد الامر هو أن القتلة لم يصفوا الضحية من خارج المقهى كما تم الادعاء، بل من داخلها والدليل أن الدماء كانت تسيل على وجه الضحية وتلك التي تظهر على مؤخرة رأسه سالت من عينه. أكثر من هذا فإن الفتاة وحسب الصورة المتداولة أصيبت أسفل بطنها ما يعني أن مستهدفها لم يكن خارج المقهى والا كان ليصيبها في الجزء العلوي بسبب حجب نوعية الكراسي في المقهى لمنطقة البطن، وفي حين يتضح أن القاتلان دخلا إلى المقهى فإن الخلاصة تفيد بأن القتلة إما أنهم غير محترفين ولا يمكنهم في هذا الحال تنفيذ الجريمة كما تم تصويرها لحدود الساعة، أو أن القتلة فعلا كما تم تصويرهم والهدف تمت تصفيته فعلا. \n",
            "Generated Headline:  Headline: لغز جريمة مقتل الشاب حمزة الطرشي يثير جدلاً واسعاً والمحققون يحاولون فك رموزها\n",
            "\n"
          ]
        },
        {
          "output_type": "stream",
          "name": "stderr",
          "text": [
            "\r 26%|██▌       | 13/50 [00:20<00:57,  1.57s/it]"
          ]
        },
        {
          "output_type": "stream",
          "name": "stdout",
          "text": [
            "****\n",
            "Actual Article:  ما تزال ظاهرة احتلال الملك العمومي مستفحلة في مقاطعة المعاريف بعمالة مقاطعات آنفا ،ولم يكد يمر يوم واحد على إقدام صاحب مقهى على قطع شجرة معمرة من أجل توسيع شرفة مقهاه ونشر المزيد من الكراسي في الشارع العام حتى تنامت ظاهرة احتلال الملك العمومي بدون أن تتدخل السلطات. وأقدم أحد الأشخاص على وضع حواحز في شكل «محابق» لحرمان الناس من استعمال الرصيف العمومي وذلك بزنقة نابلس مباشرة أمام إقامة سعد الله غير بعيد عن زنقة الفرات. وأصبحت مقاطعة المعاريف التي كان يضرب بها المثل في النظافة التمدن عبارة عن قرية مع إستمرار ظاهرة احتلال الملك العام ضدا على القانون ،ولو بوضع مزهريات كبيرة فرق الرصيف العمومي. \n",
            "Generated Headline:  شوارع المعاريف تستمر في الخضوع للاحتلال غير القانوني للملك العمومي والسلطات تتقاعس عن التدخل\n",
            "\n"
          ]
        },
        {
          "output_type": "stream",
          "name": "stderr",
          "text": [
            "\r 28%|██▊       | 14/50 [00:23<01:08,  1.90s/it]"
          ]
        },
        {
          "output_type": "stream",
          "name": "stdout",
          "text": [
            "****\n",
            "Actual Article:  وقفت “كود”، خلال جولتها الصحافية في الحرائد الصادرة الخميس ، على مجموعة من العناوين البارزة: أموال المبادرة توجه لإحداث مقاه ومحلبات ومطالب بفتح تحقيق أفادت “المساء”، في موضوع عنونته ب “أموال المبادرة توجه لإحداث مقاه ومحلبات ومطالب بفتح تحقيق”، أن جمعيات مدنية بسلا طالبت وزارة الداخلية بفتح تحقيق في مشاريع المبادرة الوطنية للتنمية البشرية، وبافتحاص المشاريع المنجزة، وبالتدقيق في هوية الجمعيات الحاملة لهذه المشاريع، وفي علاقات قربها مورالسلطة ومن مسؤولين بعمالة سلا. وحاء في باقي العناوين “المغرب يقدم ضمانات تنهي التوتر مع إسبانيا بسبب التنقيب عن البترول”، و”السجن لأكبر مجند للمتطرفين في شمال المغرب”، و”معدل الجريمة في ارتفاع والرصاص يلعلع بالبيضاء”، و”حجز كميات كبيرة من الدقيق الفاسد بالحسيمة”، و”تلاعبات في سوق اللحوم الحمراء”، و”المغرب يشارك لأول مرة في اجتماعات المانحين لفلسطين”. دوزيم مهددة بالإفلاس والدولة تتدخل لإنقاذها ذكرت “الأخبار”، في خبر حمل عنوان “قناة دوزيم مهددة بالإفلاس والدولة تتدخل لإنقاذها”، أن محمد الأعرج، وزير الثقافة والاتصال، أن القناة الثانية “دوزيم” توجد في وضع مالي مقلق، بحيث عكست المجامع المحاسبية والمالية لشركة “صورياد” القناة الثانية عجز نتيجتها المالية، بحيث لم تحقق نتائج آلية إيجابية منذ سنة 2008. وعنونت باقي المواد ب “الوفد المغربي يجهض مناورات خصومه في ختام قمة الاتحاد الإفريقي”، و”عمدة طنجة عن البيجيدي يلجأ إلى العماري لتمويل مشاريع جماعية”، و”اتهامات لفريق البيجيدي بتدليس توصية لإقبار صندوق التنمية القروية”، و”الحبس والغرامة لتلميذ في الباكلوريا متهم بالاتجار في المخدرات بإمنتانوت”، و”إينوزار. اعتقال شخص اغتصب طفلا يوم عيد الأضحى وفر منذ ثلاث سنوات”، و”الصويرة. اعتقال حلايقي استعمل قردا لاستمالة أطفال واغتصابهم”. \n",
            "Generated Headline:  Headline: أموال المبادرة مخصصة لمشاريع اجتماعية تتحول إلى مقاه ومحلبات.. جمعيات سلا تطالب بفتح تحقيق عاجل\n",
            "\n",
            "Headline: قناة دوزيم مهددة بالإفلاس والدولة تتحرك لإنقاذها مالياً\n",
            "\n"
          ]
        },
        {
          "output_type": "stream",
          "name": "stderr",
          "text": [
            "\r 30%|███       | 15/50 [00:24<01:00,  1.74s/it]"
          ]
        },
        {
          "output_type": "stream",
          "name": "stdout",
          "text": [
            "****\n",
            "Actual Article:  خبار زوين هاد الصباح. بيان ل”اتصالات المغرب” اعلن على ان هاد الشركة تعهدات بالمساهمة ب1.5 مليار درهم فالصندوق اللي دار ضد هاد الجايحة كورونا فيروس واللي كان علن عليه رئيس الدولة. بيان الشركة قال باللي هاد المساهمة جزء من “كجزء من التعبئة العامة واتباعا لنموذج المجموعات الرئيسية في البلاد”. كما كشفت باللي دارت كولشي اللي عندها باش تبقى تقدم خدمة كبيرة لكليان “في الفروع تم تنفيذ استمرارية الخدمة وإجراءات الحماية بالتعاون مع الجهات المعنية ووف ًقا للتدابير المعتمدة في كل دولة. سخرت المجموعة كل مجهوداتها لتقليص تأثيرات هذه الأزمة على أنشطتها”. دابا هاد الشركة فالحقيقة عطات لهاد الصندوق 4.8 مليار درهم. حقاش كان حكم صدراتو وكالة تقنين الاتصالات ضد “اتصالات المغرب” فنزاعها مع “انوي” وفيه غرامة على الفاعل التاريخي ب3.3 مليار درهم. هاد الرقم كان اول فلوس كتدخل للصندوق بقرار من محمد السادس. هاد الرقم تزيد عليه مليار ونص هي 4.8 مليار درهم. \n",
            "Generated Headline:  اتصالات المغرب: تساهم بـ1.5 مليار درهم فصندوق كورونا وإجراءات استثنائية لضمان استمرارية الخدمة\n",
            "\n"
          ]
        },
        {
          "output_type": "stream",
          "name": "stderr",
          "text": [
            "\r 32%|███▏      | 16/50 [00:26<01:02,  1.83s/it]"
          ]
        },
        {
          "output_type": "stream",
          "name": "stdout",
          "text": [
            "****\n",
            "Actual Article:  أعلنت مؤسسة محمد السادس للأعمال الاجتماعية لموظفي الأمن الوطني، بداية الأسبوع الجاري، عن إطلاق برنامج وطني لتخصيص منح للتفوق الدراسي لفائدة أبناء وأيتام موظفي الشرطة المتفوقين دراسيا، والحاصلين على أعلى المعدلات في امتحانات البكالوريا. وستشمل المرحلة الأولى من هذا البرنامج إحداث لجنة تعكف على وضع شروط دقيقة للاستفادة من هذه المنحة الدراسية، قبل الشروع في تلقي ملفات الاستفادة منها ودراستها بالشكل الذي يسمح باختيار 12 مستفيدا من بين أبناء وأيتام موظفي الشرطة، الحاصلين على أعلى المعدلات في الامتحانات الوطنية للحصول على شهادة البكالوريا برسم الموسم الدراسي المنصرم 2020-2021، والذين سيستفيدون من مبلغ سنوي قدره 10.000 درهم لمدة خمس سنوات كاملة من التعليم الأكاديمي العالي. وفي إطار نفس البرنامج، فمن المنتظر أن يتم توسيع قاعدة المستفيدين من هذه المنحة الدراسية بشكل دوري، ليصل إلى 60 مستفيدا في الأمد المنظور، على أن تتكفل مؤسسة محمد السادس للأعمال الاجتماعية للأمن الوطني بتوفير كافة الاعتمادات المالية الضرورية لتمويل هذا البرنامج الاجتماعي المندمج. ويندرج برنامج منح التفوق الذي أطلقته مؤسسة محمد السادس للأعمال الاجتماعية بتعليمات من المدير العام للأمن الوطني، ضمن البرامج الاجتماعية الطموحة التي تهدف إلى تنويع حزمة الخدمات الاجتماعية المقدمة لموظفي الشرطة العاملين والمتقاعدين وأفراد أسرهم، وذلك من خلال توفير دعم مادي قار ومستدام لفائدة أبناء وأيتام موظفي الشرطة المتفوقين دراسيا، والمتمدرسين بأسلاك التعليم العالي. \n",
            "Generated Headline:  Headline: مؤسسة محمد السادس للأعمال الاجتماعية كتخصّص منح دراسية لفائدة أيتام وأبناء موظفي الشرطة المتفوقين\n",
            "\n"
          ]
        },
        {
          "output_type": "stream",
          "name": "stderr",
          "text": [
            "\r 34%|███▍      | 17/50 [00:28<00:57,  1.73s/it]"
          ]
        },
        {
          "output_type": "stream",
          "name": "stdout",
          "text": [
            "****\n",
            "Actual Article:  كود : الحسيمة تداول نشطاء من الريف مقطع فيديو جديد لقاتل بائع السمك في سوق الثلاثاء بالحسيمة، أول أمس الاثنين، بعدما هاجمه وطعنه بخنجر تسبب له في نزيف حاد توفي على إثره ساعة وصوله للمستشفى. وظهر القاتل الذي يعاني خللا عقليا حسب مصادر من الحسيمة، وهو يحاول قتل نفسه بسلاح الجريمة، بعدما تمكن عناصر الامن من محاصرته ببوابة إحدى العمارات، وقد تمكنت الشرطة بعد ذلك من إعتقال الجاني. \n",
            "Generated Headline:  قاتل بائع السمك فـ الحسيمة حاول الانتحار بعدما طعن الضحية وشرطة تمكنت من اعتقاله\n",
            "\n"
          ]
        },
        {
          "output_type": "stream",
          "name": "stderr",
          "text": [
            "\r 36%|███▌      | 18/50 [00:30<00:56,  1.76s/it]"
          ]
        },
        {
          "output_type": "stream",
          "name": "stdout",
          "text": [
            "****\n",
            "Actual Article:  علمت “كود”، من مصادر عليمة، أن مدينة الوطية القريبة من طانطان، عاشت في الساعات الأولى من يومه الجمعة فيلم رعب حقيقي؛ إذ أقدمت عصابة مكونة من خمسة أفراد على متن سيارة خفيفة من نوع “داسيا” على القيام بسلسة من السرقات للمحلات التجارية بالمنطقة، وكذا اعتداءات على مواطنين بأنحاء متفرقة منها باستعمال سيوف وآلالات حادة. وأوضحت المصادر أن المعنيين بالأمر عاثوا فسادا لساعات في أرجاء المدينة، قبل أن يتدخل عناصر الدرك الملكي، الذين قاموا بملاحقتهم دون جدوى عبر الطريق الوطنية رقم 1 جنوبا في اتجاه مدينة العيون. وحسب مصادر “كود” فإن سيارات خاصة شاركت في عمليات المطاردة، في حين تم إغلاق الطريق في وجههم من طرف عناصر الدرك الملكي بالسد الأمني على مقربة من بلدة الشبيكة، حيث تم إيقاف المعنيين الذين تبين أن عددا منهم كان في حالة غير طبيعية فجر الجمعة، ليحالوا على التحقيق في انتظار عرضهم على العدالة. \n",
            "Generated Headline:  Headline: عصابة مسلحة تروع مدينة الوطية وتسطو على محلات تجارية قبل توقيفها قرب الشبيكة\n",
            "\n"
          ]
        },
        {
          "output_type": "stream",
          "name": "stderr",
          "text": [
            "\r 38%|███▊      | 19/50 [00:31<00:53,  1.71s/it]"
          ]
        },
        {
          "output_type": "stream",
          "name": "stdout",
          "text": [
            "****\n",
            "Actual Article:  قال الياس العماري رئيس جهة طنجة تطوان الحسيمة في تدوينة نشرها على صفحته على الفايسبوك انه غير معني بتسجيل غياب مصطفى الرميد وزير الدولة المكلف بحقوق الانسان. تدوينة اوضح العماري انها رد على تدوينته ليلة امس “مادام السيد مصطفى الرميد اختار الفيسبوك للتعبير عن انفعالاته حول تصريحاتي في برنامج تلفزيوني يوم أمس، فإنني سأجيبه بدوري على الفضاء الأزرق” واكد انه لم يوجه دعوة للسيد الوزير “سواء باسمي الشخصي، أو بصفتي رئيسا لجهة طنجة تطوان الحسيمة، ولم تكن الدعوة عبر الفيسبوك، وإنما وجهت كتابة من طرف اللجنة التحضيرية”. وقال “أما فيما يتعلق بمؤاخذاته على إلياس بعيدا عن المناظرة، فأنا شخصيا لم يسبق أن حصل لي الخلط بين وزير العدل وعضو الأمانة العامة لحزب العدالة والتنمية، عملا بنصيحة سبق وأن قدمها، لما كان وزيرا للعدل، لزميل لي في اجتماع حول الانتخابات. حيث كانت هناك مؤاخذات على الأمين العام لحزب البيجيدي ورئيس الحكومة السابق، الذي كان يخلط في البرلمان والتجمعات بين صفته الحزبية ومسؤوليته الحكومية، كأمين عام للحزب. وأجاب السيد الرميد وقتها بأنه كيف لرئيس الحكومة أن يصمت عندما يتلقى حزبه انتقادات وضربات؟| وشدد على ان “بعض المواقف التي عبرتُ عنها بالأمس، كانت بقرار حزبي، ومن بينها تأسيس لجنة تقصي الحقائق حول المشاريع المتأخرة في الحسيمة” وان ما قاله “عن عضو في حكومتكم ادعى أن إلياس العماري وأعضاء البام بالإقليم هم جزء من الأزمة، فإنني في الواقع كنت أدافع عنك سيدي وزير العدل والحريات السابق، حيث إن منتخبي البام بالحسيمة أفرزتهم الصناديق التي كنت تشرف عنها أنت شخصيا بصفتك عضوا رئيسيا في اللجنة الوطنية للانتخابات”. وتساءل “إذا كان إلياس عبر عن رأيه وموقفه في التلفاز، فلماذا تعاقب اللجنة التحضيرية وتحاكم مسبقا مبادرتهم، وتحكم على الهيئات والفعاليات التي ستشارك في المناظرة؟ ” العماري شد فالرميد عندما قال له “أعرف أنك حساس من الإعلام، مثل إخوانك في المغرب والمشرق، وأنت تتوجس منه أكثر مما تهتم بمصالح المواطنين”. قبل ان يقول له “لست معنيا بتسجيل غيابك مثلما طلبت، لأنني لم أوجه لك الدعوة لا كإلياس ولا كجهة، لذلك أقول لك بأنك أخطأت العنوان، وتسرعت في توجيه سهامك نحو الوجهة الخاطئة” وختم ” وأخيرا، أنا رهن إشارتك، السيد الوزير والمحامي والمنتخب، للتناظر في منبر آخر، عندما يشرع في التقصي. وإذا ثبت تقصير من أي طرف فيجب أن يعاقب طبقا للقانون... أو لست أنت من كبار المدافعين على مبدأ ربط المسؤولية بالمحاسبة؟ .” \n",
            "Generated Headline:  Headline: الياس العماري للرميد: لم أوجه لك الدعوة لا كشخصي ولا كجهة، وانت متحسس من الإعلام وتوجّه سهامك للوجهة الخاطئة\n",
            "\n"
          ]
        },
        {
          "output_type": "stream",
          "name": "stderr",
          "text": [
            "\r 40%|████      | 20/50 [00:32<00:46,  1.55s/it]"
          ]
        },
        {
          "output_type": "stream",
          "name": "stdout",
          "text": [
            "****\n",
            "Actual Article:   ارتفع عدد الأمنيين المصابين بـ”كورونا” على صعيد العاصمة العلمية فاس إلى 19 أمنيا يحملون رتب مختلفة، بعدما سجلت أمس الأحد 6 إصابات جديدة، أكدتها التحاليل الطبية المخبرية المنجزة عليهم. وفق ما كشف عنه مصدر أمني مسؤول لـ”كود”. ويتعلق الأمر، حسب مصدر “كود”، برئيس فرقة الدراجين الذي بذل مجهودات كبيرة أثناء تنزيل التدابير التي فرضتها السلطات العمومية خلال فترة حالة الطوارئ، وطبيبة ولاية الأمن، وكذا رجلي أمن يعملان بديوان والي الأمن مكلفين بمهمة، بالإضافة إلى عنصرين آخرين. وأشار مصدر “كود” إلى أن جميع الأمنيين المصابين تقرر وضعهم بجناح العزل التابع لمستشفى إبن الخطيب المعروف بـ”كُوكَارْ”، فيما تتواصل حاليا عمليات جرد اللائحة الكاملة للمخالطين، وسط حالة من الترقب وسط آخرين ينتظر أن تظهر نتائج تحاليلهم خلال الساعات المقبلة. وعلاقة بذلك، علمت “كود” أن ولاية أمن فاس أجرت أزيد من 1200 تحليلة طبية مخبرية على جميع موظفي الشرطة، وذلك في إطار الإجراءات والتدابير الاحترازية، التي انخرطت فيها منذ ظهور وباء “كورونا”، ويسهر على تنفيذها شخصيا والي أمن المدينة المراقب عبد الإله السعيد. وتنفس جميع موظفي الشرطة المنتمين للهيئة الحضرية بالمدينة الصعداء، تقول مصادر “كود”، بعدما أكدت أمس الأحد التحاليل الطبية المخبرية المنجزة عليهم خلوهم من فيروس “كورونا” الذي زرع الرعب والهلع في نفوس مختلف بلدان العالم. \n",
            "Generated Headline:  ها الجديد: عدد الأمنيين المصابين بكورونا فراس وصل لـ19 ومجهودات كبيرة لضبط الوضع\n",
            "\n"
          ]
        },
        {
          "output_type": "stream",
          "name": "stderr",
          "text": [
            "\r 42%|████▏     | 21/50 [00:33<00:37,  1.31s/it]"
          ]
        },
        {
          "output_type": "stream",
          "name": "stdout",
          "text": [
            "****\n",
            "Actual Article:  تميزت اللائحة الأولية للاعبين، الذين سيعتمد عليهم المدرب البلجيكي إيريك غيريتس، في المباراة الودية أمام السينغال، يوم 10 غشت المقبل، بالاعتماد على أسماء جديدة، ستعزز لأول مرة صفوف المنتخب الوطني. ويتعلق الأمر بكريم بلعربي، لاعب فريق بارين لفيركوزن الألماني، وأمين عداني ، لاعب فريق لخويا القطري، وناصر برازيت، لاعب أوستريا فيينا النمساوي، وزكريا بركديش لاعب لانس الفرنسي. كما عرفت اللائحة، التي تضم 32 إسما، استدعاء مجددا كل من عادل الشيحي، لاعب كولون الألماني، وإسماعيل العيساتي، لاعب أجاكس الهولندي. وفيما غاب إسم مروان الشماخ ، والمهدي كارسيلا ، عاد منير الحمداوي ليعزز صفوف الأسود \n",
            "Generated Headline:  Headline: أسماء جديدة في لائحة غيريتس لمباراة ودية ضد السينغال\n",
            "\n"
          ]
        },
        {
          "output_type": "stream",
          "name": "stderr",
          "text": [
            "\r 44%|████▍     | 22/50 [00:35<00:38,  1.37s/it]"
          ]
        },
        {
          "output_type": "stream",
          "name": "stdout",
          "text": [
            "****\n",
            "Actual Article:  عن أخبار اليوم: أنس خالص، سفير المغرب السابق لدى إيرلندا، وزميل دراسة الملك محمد السادس في المدرسة المولوية، عين مديرا لإدارة التشريفات والبروتوكول في وزارة الخارجية والتعاون. وكان خالص قد اقترح اسمه كسفير لدى ، ليكون أول سفير للمغرب هناك، بيد أن وزارة خارجية دولة موريس لم تبد أي رغبة في تبادل السفراء مع المغرب، ما أدى إلى العدول عن تعيين خالص هناك، بعدما بعثت الخارجية طلبا لاعتماده. \n",
            "Generated Headline:  Headline: زميل دراسة الملك محمد السادس سفير المغرب السابق لإيرلندا أنس خالص تعين مديرا لإدارة التشريفات والبروتوكول في وزارة الخارجية\n",
            "\n"
          ]
        },
        {
          "output_type": "stream",
          "name": "stderr",
          "text": [
            "\r 46%|████▌     | 23/50 [00:36<00:38,  1.41s/it]"
          ]
        },
        {
          "output_type": "stream",
          "name": "stdout",
          "text": [
            "****\n",
            "Actual Article:  كما العادة دارت “كود” دورة ف الجورنالات اليومية ديال غذا الاربعاء 13 مارس 2019، وجابت أهم الخبيرات: 11 ألف تعاونية مهددة بالحل نبداو بجورنال “الصباح” لي جا فيها :”سيكون مصير التعاونيات، التي لم تستجب للشروط التي حددها القانون المتعلق بالتعاونيات في أفق نهاية السنة الجارية الحل والمنع من ممارسة نشاطها. وصدر القانون في الجريدة الرسمية خلال 2014، لكن الحكومة منحت مهلة إلى غاية نهاية دجنبر 2019، من أجل ملاءمة قوانينها الأساسية مع مقتضيات القانون الجديد. وأفادت مصادر أن نصف التعاونيات، أي ما يناهز 11 ألف تعاونية، ما زالت لم تستجب للشروط الجديدة، ما يجعلها مهددة بتوقيف نشاطها وحل هياكلها. وألزم القانون الجديد بضرورة تنظيم جمع عام من أجل المصادقة على قوانينها الأساسية بعد ملاءمتها مع المقتضيات القانونية الجديدة، ويشترط ألا يقل عدد المنخرطين في التعاونية عن خمسة أعضاء وأن تعتمد التعاونيات المحاسبة، حسب مخطط المحاسبة المخصص لهذه الهياكل. بنعزوز يغرق الطرق السيارة بالديون الخارجية ندوزو لجورنال “الاخبار” جا فيه ” رغم الأزمة المالية التي تعرفها شركة الطرق السيارة يواصل مديرها العام، أنور بنعزوز إغراق الشركة بالديون، ضاربا بعرض الحائط التزامات وتعهدات الحكومة بتقليص نسبة مديونية المؤسسات والمقاولات العمومية، بناء على توصيات تقرير المجلس الأعلى للحسابات. ومنح البنك الأوربي للاستثمار قرضا بقيمة 80 مليون أورو ، للشركة الوطنية للطرق السيارة بالمغرب وذلك من أجل التخفيف من حدة الازدحام على مستوى الدار البيضاء الكبرى، حيث جرى مؤخرا توقيع اتفاقية في هذا الشان من أجل تمويل أشغال تثليث الطريق السيار الدار البيضاء على مسافة 575 كلم، ويغطي هذا التمويل أشغال تثليث الطريق السيار الدار البيضاء برشيد على مسافة 258 كلم، وكذا إنجاز طريق سيار مداري للدار البيضاء على مسافة 317 كلم. \n",
            "Generated Headline:  Headline: 11 ألف تعاونية مهددة بالتوقف إذا لم تلتزم بالشروط الجديدة بحلول نهاية السنة الحالية\n",
            "\n",
            "Headline: أنوار بنعزوز يغرق شركة الطرق السيارة بديون خارجية رغم الأزمة المالية\n",
            "\n"
          ]
        },
        {
          "output_type": "stream",
          "name": "stderr",
          "text": [
            "\r 48%|████▊     | 24/50 [00:37<00:34,  1.31s/it]"
          ]
        },
        {
          "output_type": "stream",
          "name": "stdout",
          "text": [
            "****\n",
            "Actual Article:  واش تعيين أحمد شوقي بنيوب، في منصب المندوب الوزاري المكلف بحقوق الإنسان، من قبل الملك محمد السادس، والصلاحيات لي عطاه حسب بلاغ الديوان الملكي، فيه تداخل فالصلاحيات بينو وبين مصطفى الرميد وزير المكلف بحقوق الانسان؟. مصدر مطلع قال لـ”كود”: إن “المندوبية الوزارية لحقوق الانسان، هي مؤسسة مستقلة ومكاينش تعارض بينها وبين وزارة حقوق الانسان فهي تحت اشراف الوزير الرميد”، مشيرا إلى ان المندوبية ديما كتحضر فجميع المحطات لي فيها حقوق الانسان، وعنده استقلاليتها”. وتابع ذات المصدر بالقول :”هي ادارة مستقلة تابعة اداريا لوزارة حقوق الانسان، عندها استقلالية كاملة”. بلاغ الديوان الملكي جا فيه :”أكد الملك على دور هذه المندوبية في متابعة السياسة الحكومية، خاصة في مجال حماية حقوق الإنسان والنهوض بها، والتنسيق في ذلك مع القطاعات الوزارية والمؤسسات المعنية؛ فضلا عن تتبع تفعيل الاتفاقيات الدولية ذات الصلة، وإعداد وتقديم التقارير الوطنية أمام الآليات الأممية المختصة، كما دعا الملك المندوب الوزاري الجديد لمواصلة الجهود، بغية صيانة المكاسب المحققة، وإدماج ثقافة حقوق الإنسان في السياسات العمومية الوطنية، وتطوير التعاون مع الفعاليات والمنظمات المعنية، الحكومية وغير الحكومية”. المرسوم المرسوم الخاص بتحديد اختصاصات وزير الدولة المكلف بحقوق الإنسان مصطفى الرميد، والذي صدر بالجريدة الرسمية تحت 6567، بتاريخ 8 ماي 2017، كشف أن المندوبية الوزارية المكلفة بحقوق الإنسان أصبحت تحت وصايته. \n",
            "Generated Headline:  تعيين شوقي بنيوب مندوب وزاري مكلف بحقوق الإنسان ما غديش يتعارض مع صلاحيات الرميد\n",
            "\n"
          ]
        },
        {
          "output_type": "stream",
          "name": "stderr",
          "text": [
            "\r 50%|█████     | 25/50 [00:39<00:33,  1.35s/it]"
          ]
        },
        {
          "output_type": "stream",
          "name": "stdout",
          "text": [
            "****\n",
            "Actual Article:  شدات عناصر الحرس المدني الصبليوني فـ مليلية جوج قاصرين بتهمة التورط فتهريب المخدرات لمدينة مليلية المحتلة. المتهمين اللي عمرهوم 14 و17 عام، تشدو حدا نقطة تفتيش “باريوتشينو”، بعدما توصلو بكميات من مخدر الحشيش، ترمات ليهم من طرف مهربي المخدرات من المغرب عبر الكَرياج. وقد تم ضبط 14 عبوة ملفوفة بشريط لاصق، بداخله ما يعادل 7 كيلو ونص من الحشيش. \n",
            "Generated Headline:  Headline: الحرس المدني فمليلية يشد جوج قاصرين حدا باريوتشينو متورطين فتهريب الحشيش من المغرب\n",
            "\n"
          ]
        },
        {
          "output_type": "stream",
          "name": "stderr",
          "text": [
            "\r 52%|█████▏    | 26/50 [00:40<00:32,  1.34s/it]"
          ]
        },
        {
          "output_type": "stream",
          "name": "stdout",
          "text": [
            "****\n",
            "Actual Article:  قالت وزارة الخارجية الجزائرية أن اجتماعا لمجلس السلم والأمن الإفريقي سينعقد اليوم الخميس، على مستوى وزراء الخارجية لدراسة تنفيذ استراتيجية الإتحاد الإفريقي للإدارة المتكاملة للحدود بين الدول الأعضاء. وأشار بيان لذات الوزارة، إلى أن وزير الخارجية الجزائري رمطان لعمامرة، سيشارك عن طريق تقنية التواصل المرئي في هذا الاجتماع الذي سيركز على تقييم حالة تنفيذ الاستراتيجية السالفة الذكر، مع التركيز على ضرورة احترام مبدأ الحدود الموروثة عند نيل الاستقلال، حيث سيدلي لعمامرة بمداخلته في إطار النقاش العام حول الموضوع، لافتا إلى أن الجزائر تعتبر من “أكبر المناصرين للتطبيق الصارم لهذا المبدأ في ربوع القارة الإفريقية”. واعتبر البيان، في ترويج للأطروحة الجزائرية بخصوص هذا المبدأ، الذي وظفته لخدمة أجندتها المتعلقة بنزاع الصحراء ودعم أطروحة البوليساريو، أن “السلطة القانونية والسياسية والأدبية لهذا المبدأ قد تأكدت بتكريسه في العقد التأسيسي للإتحاد الإفريقي، وكذلك عبر قرارات محكمة العدل الدولية التابعة لمنظمة الأمم المتحدة” حسب بيان الخارجية الجزائرية. ولطالما استندت الجزائر في دفاعها عن مواقفها بخصوص النزاع الإقليمي حول الصحراء على “مبدأ الحدود الموروثة عن الإستعمار”، الذي زعمت الخارجية الجزائرية على الإشارة إلى أن بلادها تعتبر من “أكبر المناصرين للتطبيق الصارم لهذا المبدأ في ربوع القارة الإفريقية”، حيث وظفته بمساعدة بعض حلفائها بالإتحاد الإفريقي، للترويج لأطروحتها بخصوص هذا النزاع، وكذا إقحام جبهة البوليساريو داخل المنظمة القارية. \n",
            "Generated Headline:  الخارجية الجزائرية تراهن على اجتماع مجلس السلم والأمن الإفريقي لدعم \"مبدأ الحدود الموروثة\" لخدمة أجندتها بشأن نزاع الصحراء\n",
            "\n"
          ]
        },
        {
          "output_type": "stream",
          "name": "stderr",
          "text": [
            "\r 54%|█████▍    | 27/50 [00:42<00:33,  1.45s/it]"
          ]
        },
        {
          "output_type": "stream",
          "name": "stdout",
          "text": [
            "****\n",
            "Actual Article:  تنشر كَود أهم خلاصات ما جاء في اَخر قرار لمجلس الأمن فيما يخص الصحراء المغربية وردود الفعل التي نتجت عنه سواء من وزارة الخارحية المغربية أو أطراف مغربية غير رسمية وأيضا موقف جبهة البوليساريو و التيار المتشدد داخل هذه الأخيرة، كما نورد وجهة نظر “كود” فيما يجب على المغرب فعله مستقبلا من أجل حل نهائي للنزاع. 1- أهم ما جاء في قرار مجلس الأمن بخصوص الصحراء: – تمديد بعثة المينورسو عاما اَخر. – تثمين تجربة اللجان الجهوية التابعة للمجلس الوطني لحقوق الإنسان بالعيون و الداخلة. -دعوة الطرفين إلى الاستمرار في المفاوضات من أجل حل نهائي للنزاع. – المطالبة بإحصاء اللاجئين بمخيمات تندوف. -الإشارة إلى دور الدول الإقيليمة في النزاع : الجزائر و موريطانيا. 2- رد فعل المغرب الرسمي: – ارتياح رسمي للقرار و تسجيل إشادة مجلس الامن لنهج المغرب من أجل معالجة هذه القضية. – الإشارة إلى عدم استجابة المجلس للتوصيات الخطيرة المستفزة التي تضمنها تقرير الامين العام للأمم المتحدة و التي تهدف إلى المس بالسيادة المغربية. – التشديد على ما ذكره القرار عن “تورط” الجزائر و موريطانيا في النزاع و بالتالي اعتباره ذي بعد إقليمي كما يقول المغرب منذ عقود. – التشديد على الفقرة التي تحدثت عن وجوب إحصاء اللاجئين بمخيمات تندوف حتى لا يتم استغلالهم التلاعب بهم. – التشديد على إشارة القرار إلى أن النزاع يعيق اتحاد المغرب العربي. – التذكير بأن إضافة اختصاصات أخرى للمينورسو تهديد لمسلسل المفاوضات. 3- رد فعل المغرب غير الرسمي: – الدولة المغربية لا تشرك الأحزاب و المنظمات الحقوقية في الملف. – لا شفافية فيما يخص إبلاغ الشعب المغربي بمستجدات القضية. – تسجيل أن القرار لم يتطرق بتاتا الى استغلال الموارد الطبيعية كما تضمن تقرير بان كي مون. – الديبلوماسية الملكية تحتكر الملف وتحقق الانتصار على البوليساريو و أيضا على الديبلوماسية الحكومية. – تركيز مجلس الأمن على ربط الحل السياسي بتقرير المصير لا يترك هامشا للمغرب في طرحه للحكم الذاتي. 4- رد فعل البوليساريو الرسمي: – التركيز على الفقرة التي تحدث فيها القرار عن “تقرير مصير ساكنة الصحراء”،واستبدال التعبير السابق ب ” الشعب الصحراوي”. – الاحتفاء بورود تعبير ” تقرير المصير” رغم أنه لا يعني بالضرورة الانفصال و قد يعني التشبث بالوحدة الوطنية مع المغرب أيضا. – التذكير بضرور اعتبار القضية قضية تصفية استعمار. – التأسف بكون المينورسو لن تراقب وضع حقوق الانسان. – تسجيل رفع عدد المراقبين العسكريين ب 15 فردا ضمن البعثة كأنه انتصار رغم أنه إجراء تقني فقط . 4- رد فعل التيار المتشدد في البولساريو: – وصف القرار بالهزيمة و أن مجلس الأمن رضخ لضغوط المغرب و عجز عن توسيع صلاحيات المينورسو. – التذكير بأن السبب في هذه الهزيمة هو تهديد المغرب بطرد البعثة الأممية و أن فرنسا كانت مستعدة لاستعمال حق الفيتو ضد أي قرار يمس سيادة المغرب. – التشديد على أن مجلس الامن لم يبالي بتوصيات بان كي مون بخصوص حقوق الإنسان. – استنتاج أن قيادة البوليساريو فقدت التأثير الديبلوماسي في الأمم المتحدة. – المطالبة بطرد المينورسو والرجوع إلى المواجهة العسكرية. 5- وجهة نظر كَـود : القرار يعد انتصارا للمغرب، لم تلعب فيه فرنسا بضغوطاتها المفترضة أي دور مادامت وزارة الخارجية الفرنسية أنكرت تلك المزاعم، ولا أهمية في الحقيقة لما تكرر عن تهديد المغرب بسحب بعثة المينورسو مادام ذلك لا يتماشى مع السياسة المغربية التقليدية اتجاه النزاع و اختياره مسار الحل السياسي بتنسيق مع الأمم المتحدة. النقطة المهمة التي حققت انتصار المغرب وأعطته مصداقية كبيرة وجعلت مجلس الأمن لا يبالي بالتوصيات الخطيرة لبان كي مون القائلة بتوسيع صلاحيات المينورسو، هي اعتماد المغرب على المجلس الوطني لحقوق الإنسان الذي يقوده حقوقيون ذوي سمعة عالمية، و بالضبط إنشاؤه للجنة الجهوية في الصحراء ودورها المهم في وضع حد لمتابعة المدنيين أمام المحاكم العسكرية و استقلاليتها تجاه أجهزة الدولة التنفيذية في الصحراء وهو ما لايخفى على مراقبي الأمم المتحدة. ينضاف إلى ذلك تصريح أحمد الصبار حين أشار سابقا لوكالة الانباء الاسبانية “ايفي” إلى إمكانية السماح بإنشاء جمعيات انفصالية في الصحراء. غير أن السؤال المهم يبقى : هل يدرك العقل الأمني التقليدي في وزارة الداخلية أهمية هذه اللجنة الجهوية وهل سيدع لهما المجال للمزيد من العمل وإضفاء المصداقية على مواقف المغرب في المحافل الدولية وتسريع تبني الأمم المتحدة لخيار الحكم الذاتي كحل نهائي؟ \n",
            "Generated Headline:  Headline: ملخص قرار مجلس الأمن الأخير حول الصحراء وانتصار المغرب الدبلوماسي أمام البوليساريو\n",
            "\n"
          ]
        },
        {
          "output_type": "stream",
          "name": "stderr",
          "text": [
            "\r 56%|█████▌    | 28/50 [00:43<00:32,  1.49s/it]"
          ]
        },
        {
          "output_type": "stream",
          "name": "stdout",
          "text": [
            "****\n",
            "Actual Article:  تعيش العاصمة الإسماعلية مكناس، منذ اليومين الماضيين، حالة استنفار أمني كبير، وذلك بعد العثور على ما يشبه “قنبلة” بباب الريح بالقرب من المحطة الطرقية، من قبل صاحب محل لبيع الزيتون، الذي عمل على إشعار مصالح الأمن بالواقعة. وعلمت “كود” أن عناصر أمنية تنتمي لمصلحة الشرطة القضائية والشرطة العلمية والتقنية انتقلت إلى مكان الحادث، وباشرت سلسلة من الأبحاث والتحريات، كما تم الاستماع إلى صاحب المحل الذي أبلغ عن وجود قنبلة وقام بإغلاق محله. بالمقابل، أوضح مصدر أمني مأذون أن الأمر لا يتعلق بقنبلة، وإنما الأمر يتعلق بـ”قطعة حديدة” ظن صاحب المحل أنها قنبلة، وتبين من خلال التحريات التي قامت بها مصالح الأمن المتخصة أن مهاج مغربي يقطن بإحدى الدول الأوروبية هو الذي قام بوضع تلك القطعة، نافيا نفس المصدر نفيا قاطعا الأخبار التي راجع بقوة ومفادها أن الأمر يتعلق بقنبلة. \n",
            "Generated Headline:  Headline: قنبلة فـ مكناس؟ لا، غير قطعة حديدة شكك صاحب محل فالمدينة ركومات \"قنبلة\" وأجهز الخبيرة نفت الإشاعات\n",
            "\n"
          ]
        },
        {
          "output_type": "stream",
          "name": "stderr",
          "text": [
            "\r 58%|█████▊    | 29/50 [00:45<00:30,  1.43s/it]"
          ]
        },
        {
          "output_type": "stream",
          "name": "stdout",
          "text": [
            "****\n",
            "Actual Article:  عن الصباح: أحالت الدائرة الأمنية بمدينة العرفان بالرباط، إطارا صحيا في حالة اعتقال يشتغل بمستشفى سيدي محمد بن عبد الله للأنكولوجيا بحي الرياض، صباح اليوم الأحد، على وكيل الملك لدى المحكمة الابتدائية، بعدما تفجرت فضيحة تلقيه رشوة، الخميس الماضي. وخضع الموقوف لـ 72 ساعة من الحراسة النظرية للتحقيق معه في النصب، وتلقي رشوة من مصاب بسرطان الحنجرة، مقابل الاستفادة من خدمات المؤسسة الصحية. \n",
            "Generated Headline:  Headline: فضيحة جديدة بمستشفى سيدي محمد بن عبد الله: اعتقال إطار صحي بتهمة تلقي رشوة من مريض بالسرطان\n",
            "\n"
          ]
        },
        {
          "output_type": "stream",
          "name": "stderr",
          "text": [
            "\r 60%|██████    | 30/50 [00:46<00:27,  1.37s/it]"
          ]
        },
        {
          "output_type": "stream",
          "name": "stdout",
          "text": [
            "****\n",
            "Actual Article:  مهمة إنقاذ الشباب من الشوماج بدات. في الأسابيع القليلة الماضية رأت النور عدد من المشاريع التي ينتظر أن توفر مناصب شغل للشباب، الذين يتوقع أن يخلص القطاع الفلاحي النسبة الأكبر منهم من هذه المعضلة. من أبرز هذه المشاريع تلك التي عرفتها أهم المناطق الفلاحية بالمغرب، ويتعلق الأمر بإقليم الشاوية، حيث خصص في السطات 7 هكتارات لبناء مركب تجاري وسياحي، الذي سيمكن من خلق 500 منصب شغــــل مباشر و500 منصب شغل غير مباشر، ما سيساهم في التخفيف من أزمة تشغيل الشباب بالمدينة والاقليم. ويشتمل هذا المشروع، الذي أعطي انطلاقة أشغال إقامته في المنطقة التجارية والخدمات بالمدخل الشمالي للمدينة، في حفل ترأسه أمس الأربعاء عامل الإقليم خطيب لهبيل بحضور وفد مرافق له، على فندق وقاعات متعددة الخدمات وفضاء للتنشيط والترفيه، ويقدر الغلاف المالي لإنجاز هذا المركز بـ 200 مليون درهم. ومن أجل خلق مزيد من الفضاءات الرياضية والثقافية والمساهمة في توفير مجالات للتنشيط والترفيه لفائدة شباب مدينة سطات، أشرف أيضا على تأهيل ملعب رياضي للقرب بحي سيدي عبد الكريم. هذا المشروع يشتمل على إصلاح أرضية الملعب وتسييجه وبناء مستودع للملابس، وقد كلف انجاز هذه الاشغال المنجزة في إطار شراكة بين المبادرة الوطنية للتنمية البشرية وجماعة سطات مبلغا ماليا يصل الى 9.78.414,00 درهم. كما سلم سيارتين للنقل المدرسي لفائدة تلاميذ الجماعتين الترابيتين لسيدي الذهبي وامنيع وسيارتين للإسعاف لفائدة الوقاية المدنية، كلف المبادرة الوطنية للتنمية البشرية اقتناء مجموع هاته السيارات، مبلغا ماليا يصل الى 1.650.000،00 درهم. \n",
            "Generated Headline:  مشاريع جديدة في إقليم الشاوية لتخفيف البطالة وتوفير فرص شغل للشباب\n",
            "\n"
          ]
        },
        {
          "output_type": "stream",
          "name": "stderr",
          "text": [
            "\r 62%|██████▏   | 31/50 [00:47<00:26,  1.40s/it]"
          ]
        },
        {
          "output_type": "stream",
          "name": "stdout",
          "text": [
            "****\n",
            "Actual Article:  عادت العلاقات المغربية الجزائرية إلى نقطة الصفر، رغم محاولة الحكومة الإسلامية، التي يقودها عبد الإله بنكيران، تجاوز المعوقات التي تحول دون تطوير العلاقات بين البلدين، حين قام وزير الخارجية والتعاون، سعد الدين العثماني، ووزير الاتصال، الناطق الرسمي باسم الحكومة، محمد الخلفي، بزيارة الجزائر، أملا في إعطاء دفعة جديدة لهذه العلاقات، غير أن انسحاب الوفد المغربي اليوم الجمعة من مراسيم تشييع جثمان بن بلة بسبب حضور وفد من ، غيب آمال وزراء حكومة بنكيران. لدى وصوله إلى الجزائر العاصمة، توجه الوفد المغربي إلى قصر الشعب، لإلقاء النظرة الأخيرة على جثمان الرئيس الراحل. وحضر الوفد بعد ذلك حفل الغداء، الذي أقامته السلطات الجزائرية على شرف الوفود المغربي، والتونسي، الذي كان يقوده رئيس الجمهورية التونسية، منصف المرزوقي، والموريتاني، الذي كان يقوده الوزير الأول، مولاي ولد محمد لقظف. بعد ذلك، توجه الوفد المغربي إلى مقبرة “العالية”، حيث ووري جثمان الفقيد الثرى، وبمجرد وصوله اكتشف الحضور البروتوكولي لوفد من ، كان يقوده محمد عبد العزيز. وأمام هذا الوضع انسحب الوفد المغربي على الفور، قبل أن يتوجه إلى مطار الجزائر العاصمة، حيث كان في وداعه، كما كان عليه الأمر عند وصوله، الوزير الأول الجزائري، أحمد أويحيى. \n",
            "Generated Headline:  Headline: حكومة بنكيران كانت باغا تحسن العلاقات المغربية الجزائرية، ولكن اضطر الوفد المغربي لينسحب من تشييع جثمان بن بلة بسباب حضور وفد من البوليزاريو\n",
            "\n"
          ]
        },
        {
          "output_type": "stream",
          "name": "stderr",
          "text": [
            "\r 64%|██████▍   | 32/50 [00:49<00:24,  1.36s/it]"
          ]
        },
        {
          "output_type": "stream",
          "name": "stdout",
          "text": [
            "****\n",
            "Actual Article:  شهد المقر المركزي لحزب العدالة والتنمية، خلال الأيام الأربعة الأخيرة، حركية غير مسبوقة، حيث يحضر الأمين العام سعد الدين العثماني، بشكل شبه يومي إلى المقر، لعقد اجتماعات خاصة وأخرى متعلقة بالوضع التنظيمي الحزبي والوضع السياسي العام. وعلمت “كود” من مصادر داخل الحزب، أن مبادرة الدعوة إلى مؤتمر استثنائي، استنفرت قادة الحزب، خصوصا بعدما تجاوز عدد الموقعين عليها الـ100 عضو في الحزب، ناهيك عن المضمون السياسي والفكري الذي تحمله مذكرة المؤتمر، حيث اجتمع القادة البارزين في أكثر من مناسبة للحديث عن هذه المبادرة وخلفيتها وسياقها. وحسب قيادي بارز في حديثه مع “كود” فإن المذكرة وضعت قيادة الحزب في ميزان التقييم الحقيقي، ورصدت مختلف المحطات وأظهرت “بعض المسوغات الواهية لعزل بنكيران”، إضافة إلى “كشفها زيف الحوار الداخلي الذي لم يصل إلى نتائج متقدمة”، في ظل غياب قادة بارزون. ويسود تخوف كبير لدى تيار الاستوزار الداعم لسعد الدين العثماني، بسبب هذه المبادرة “المفاجئة” والتي لم يجدوا لها ردا، سوى الاعتماد على نفس الخطة السابقة، بالاستعانة إلى أحد رموز الحزب في التنظير الداخلي، ويتعلق الأمر بمحمد يتيم. يتيم، رد بطريقته على المبادرة بالقول إن :”الجهل بمعطيات السياق او التحليل الخاطئ لمعطياته قد كان سببا كما تدل على ذلك التجارب القريبة والبعيدة في جر تنظيمات ودول إلى كوارث ومآسي رجعت بالمد الإصلاحي عقودا من الزمن إلى الوراء”. وتابع يتيم في مقال نشره على صفحته الفايسبوك :”علما إن الإصلاح لا يعني دوما جلب مصالح ومكاسب جديدة بل قد يكون مجرد الحفاظ على المكاسب القديمة وتحصينها ودرء وقوع مفاسد أعظم من المفاسد الواقعة من أعظم أنواع الإصلاح وهو مضلة أفهام ومزلة أقدام ومعترك صعب ومرتقى ضنك كما يقول ابن عقيل في توصيف السياسة الشرعية”. وشدد المتحدث أن “العمل الإصلاحي كما أنه يحتاج إلى الحماس والإيمان الذي يحشد الهمة والخطاب الذي يلهم العاطفة يحتاج إلى النظر والفكر . وأن العمل الإصلاحي لا يقوم فقط على الخطباء بل يحتاج أيضا إلى مفكرين كما يقول الدكتور فهد النفيسي”. وفي سياق متصل تفاعل مكتب المجلس الوطني لحزب العدالة والتنمية، مع مذكرة الدعوة لعقد مؤتمر وطني استثنائي، من خلال تكليف رئيسة اللجنة السياسية والسياسات العمومية بالمجلس الوطني بالدعوة في أقرب الآجال، إلى اجتماع اللجنة لإتاحة الفرصة لتعميق النقاش وتبادل الرأي حول الوضعية السياسية العامة واستحقاقات المرحلة والتساؤلات التي تطرحها المذكرة والمساهمة في بلورة الحلول المشتركة والمقترحات الملائمة. \n",
            "Generated Headline:  Headline: العثماني غارق فـ اجتماعات حزاب العدالة والتنمية والدعوة لمؤتمر استثنائي دايرة روينة بين قيادات الحزب\n",
            "\n"
          ]
        },
        {
          "output_type": "stream",
          "name": "stderr",
          "text": [
            "\r 66%|██████▌   | 33/50 [00:50<00:22,  1.35s/it]"
          ]
        },
        {
          "output_type": "stream",
          "name": "stdout",
          "text": [
            "****\n",
            "Actual Article:  كود : يونس أفطيط إعتقلت الشرطة الايطالية زوال أمس الاحد مواطن مغربي مقيم بإيطاليا، بعد إتهامه من قبل قاصر إيطالية بالتحرش بها ومحاولة إغتصابها. وقالت القاصر التي توجهت رأسا إلى دورية للشرطة بعد خروجها من محطة المترو بمدينة بيروجيا، أن أحد الاشخاص قام بتقبيلها رغما عنها وحاول أن يغتصبها قبل أن تتمكن من التخلص منه، حيث منحت أوصاف المتهم للدورية التي إعتقلته بعدما حاصرته غير بعيد عن محطة المترو. المغربي البالغ من العمر 40 سنة تقدم من الشابة التي كانت نزلت للتو من المترو وحضرت لمدينة بيروجيا لزيارة صديقها في عيد الفصح، حيث سألها عن سبب زيارتها لبيروجيا ومن أين هي قادمة، ليطلب منها مرافقته ليقدم لها كأس خمر الشيء الذي رفضته المراهقة بشدة ما دفعه إلى محاصرتها والشروع في تقبيلها قبل أن تتخلص الضحية من الوحش المغربي الذي سيعرض على القضاء بعد إنتهاء التحقيق معه. \n",
            "Generated Headline:  مغربي مقيم في إيطاليا تحرش بقاصر وحاول يغتصبها.. الشرطة اعتقلته بشبهة الجريمة\n",
            "\n"
          ]
        },
        {
          "output_type": "stream",
          "name": "stderr",
          "text": [
            "\r 68%|██████▊   | 34/50 [00:51<00:19,  1.21s/it]"
          ]
        },
        {
          "output_type": "stream",
          "name": "stdout",
          "text": [
            "****\n",
            "Actual Article:  كشف مصطفى الخلفي، الوزير المنتدب المكلف بالعلاقات مع البرلمان والمجتمع المدني، الناطق الرسمي باسم الحكومة، عن قرار حكومي جديد يهم الفلاحين ويشجع انتاجهم، حيث رفعت الحكومة من رسم الاستيراد المطبق على القمح، وذلك بجعل الثمن المرجعي عند الاستيراد يتجاوز 360 درهما للقنطار عوض 255 درهما المطبقة حاليا. وأوضح الخلفي، في الندوة الصحفية التي أعقبت المجلس الحكومي المنعقد اليوم الخميس 10 ماي الجاري، أن الهدف من هذا الاجراء هو دعم الفلاحين المغاربة باعتبار أن الزيادة في الرسوم ستمكنهم من تسويق منتوجهم، و لكي لا يؤدي القمح المستورد إلى الإضرار بالإنتاج الوطني. \n",
            "Generated Headline:  الخلفي: الحكومة ترفع من رسم الاستيراد على القمح لدعم الفلاحين المغاربة وتحفيز الإنتاج الوطني\n",
            "\n"
          ]
        },
        {
          "output_type": "stream",
          "name": "stderr",
          "text": [
            "\r 70%|███████   | 35/50 [00:52<00:17,  1.15s/it]"
          ]
        },
        {
          "output_type": "stream",
          "name": "stdout",
          "text": [
            "****\n",
            "Actual Article:  سعيد الشاوي: يتداول مجلس جامعة محمد الخامس بالرباط في شكاية ضد أستاذ بشعبة الجيولوجيا بكلية العلوم أكدال، أقام ثلاثة أيام في فندق قروي يقع بالقرب من المنتزه الوطني أخنيفيس، لكن دون أن يؤدي ما ترتب عليه من واجبات. وجاء في الشكاية، التي اطلعت عليها “كود”، أن الأستاذ وكان رفقة اثنين من زملائه فضلا عن عدد من الطلبة هرب، في اليوم الأخير على الساعة الخامسة صباحا تاركا باب الفندق مفتوحا، ولم يؤد مبلغا هزيلا لا يتجاوز 2400 درهما الذي ترتب عنه طيلة ثلاثة أيام. وتدخل رحلة الأستاذ وطلبته، وفق ما جاء في الشكاية، في خرجة بيداغوجية علمية لفائدة طلبة الماستر والدكتوراه في تخصص التواصل والسياحة البيئية التابعة لكلية العلوم للجامعة محمد الخامس بالرباط. وأفادت مصادر من الجامعة أن الرئيس بمجرد توصله بالشكاية أحس بحرج كبير، وأحالها على المجلس في انتظار الاستماع للأستاذ. \n",
            "Generated Headline:  أستاذ بجامعة محمد الخامس متهم بالهروب من فندق قروي دون دفع الفاتورة بعد رحلة بيداغوجية\n",
            "\n"
          ]
        },
        {
          "output_type": "stream",
          "name": "stderr",
          "text": [
            "\r 72%|███████▏  | 36/50 [00:53<00:18,  1.30s/it]"
          ]
        },
        {
          "output_type": "stream",
          "name": "stdout",
          "text": [
            "****\n",
            "Actual Article:  من أنتم؟ “نحن الأحزاب الأربعة”. وضحوا، وضحوا أكثر، من أنتم. نحن الوفاق سابقا، ويقودنا الأحرار، ونجر معنا الاتحاد الاشتراكي حاليا. من. من. من أنتم؟ وهل هذا ممكن؟ وهل يقبله عقل سليم؟ نحن رباعيو الدفع. نحن سيارة كات كات جديدة. نحن العبث بعينه. نحن لا شيء. نحن لعبة يلعب بها. نحن نهاية السياسة. من زعيمكم؟ عزيزنا أخنوش. ولماذا أربعة بالضبط. نحن خمسة في الحقيقة، وحزبنا القائد والمسير اختار لنفسه المعارضة، بينما اختار لنا نحن الأربعة الأغلبية لأنه يقدرنا ويفضلنا وأوكل إلينا مهمة إزعاج بنكيران في الحكومة، ولقد أصدر بدوره اليوم بلاغا يدعمنا فيه، ويحمل بنكيران كل المسؤولية. وهل يوجد بلاغ تكتبه أربعة أحزاب وتكون هذه هي لغته، وتبدأ جملته الأولى بـ”نحن الأحزاب الأربعة”، كأنكم تكتبون شكاية، ثم لماذا يظهر عليكم كل هذا الارتباك؟ نحن في عجلة من أمرنا، ومدفوعون دفعا، وخامسنا في المعارضة وسادسنا لا يظهر؟ وما هو شعاركم؟ لنا شعار مؤقت هو”رباعي رباعي شخصية خمسة أجزاء علمية، خمسة أجزاء قتالية اتحدت في جسم واحد، يعطينا أملا وقوة. وهل يعقل أن تصلوا إلى هذا المستوى وتكتبوا مثل هذه البيانات؟ نحن نلعب لعبة غير متقنة منذ البداية، ونحن كالأطفال، وليست لنا تجربة، ومعنا الاتحاد الدستوري الذي وجدناه وأخذناه معنا، ومعنا الاتحاد الاشتراكي الذي انتهت مدة صلاحيته، ولم نتعود أن نواجه أحدا، والوقت ضيق، وقد أصابتنا الدوخة، ولم نجد حلا، ونحن خلاصة كل الأخطاء وكل المخططات، ونحن من تبقى، والورقة الأخيرة في اللعب، ورغما عنا نلعب بهذه الطريقة الفجة، ومضطرون، فاعذرونا، وتفهمونا. لكن بنكيران أفحمكم ورد عليكم بأن الكلام انتهى، وكتبها كأنه يغني، كأنه يدندن، وكتبها موزونة، وعلى إيقاع نفاد الصبر، فماذا أنتم فاعلون؟ نحن في حيص بيص، ولم نتوقع منه هذا. وأنت أيها الاتحاد الاشتراكي ألا تخجل من نفسك، ومن هذا الدور الذي تلعبه، وتتبع الأحرار والاتحاد الدستوري والحركة الشعبية، هذا لا يليق بك أيها الاتحاد الاشتراكي، ولا يليق بماضيك، ولا يليق باستقلاليتك، وبعد كل هذا العمر توقع بيانا مع الاتحاد الدستوري، ماش حشومة؟ أنا الاتحاد الاشتراكي مع خطاب داكار، ومع حكومة قوية ومنسجمة. وأنتم،من أنتم؟ نحن أيضا مع خطاب دكار ومع حكومة قوية ومنسجمة. لكنكم تصرون على إدخال الجميع إلى الحكومة، وهذا ربما عكس ما قاله الملك، وربما فهمتم الخطاب بعكسه، وكل من تجدونه في طريقكم، تأتون به إلى بنكيران وتقترحونه عليه، ولم يسلم منكم إلا حزب النهج والطليعة ونبيلة، وقد تأتون بعابري السبيل، وبالمهاجرين، وبالمشردين، وبالأحزاب الأجنبية، وبالمحترفين، وبالهواة، كما لو أنكم غير مقتنعين بقدراتكم. ماذا تقول في هذه النقطة يا عزيز أخنوش؟ أنا رجل طيب وأحب الخير، وأريد حكومة للجميع، وتشارك فيها كل الأحزاب، باستثناء حزب الاستقلال، وهي الحكومة التي تكلم عنها جلالة الملك في خطابه. لا أحد فهم الخطاب كما فهمته؟ أمرّ. صراحة ماذا تريدون من الرجل؟ أن يوقع معنا على بيان”نحن الأحزاب الأربعة” القادم. وماذا أيضا؟ أن ينضم إلينا. وماذا أيضا؟ أن يسمح لنا بأن نهينه وأن نشتمه وأن يصفه إدريس لشكر بالكذاب، ونعتبره هو الأضعف وأن لا يصدق أنه فاز في الانتخابات، وأن يقبلنا مع ذلك، ويتحالف معنا. وماذا أيضا؟ أن نتحكم فيه وأن يعتذر لنا لأن حزبه فاز في الانتخابات. لكنكم تلعبون بشكل سيء وبمستوى ضعيف، بينما بنكيران بارع، وفي كل مرة تزداد شعبيته، ويزداد قوة في الشارع؟ الحمية تغلب السبع. لكنه سيعتكف من جديد في بيته وستضطرون إلى طرق الباب؟ نحن في ورطة، وننتظر الأوامر. وهل من حل في الأفق؟ لقد أحرجنا ولم نتوقع منه أن يكتب هو الآخر بلاغا. وماذا تتوقعون؟ لا نعرف، حقيقة لا نعرف، وقد جربنا كل شيء، وكتبنا البلاغات، وذهب صاغرا إلى موريتانيا، وطردنا شباط، بينما بنكيران مازال صامدا، ولم يرضخ. وما هي الخطوة القادمة؟ لا تظن أننا نعرف ما هي الخطوة القادمة، نحن مثل الجميع، وخاضعون مثل بنكيران لضغط الوقت، ونرتجل، وليست لنا فكرة واضحة. لكن من الأفضل أن تكفوا، فهذا الارتباك يسيء إليكم، ويسيء إلى المغرب، ويهدد استقراره؟ بنكيران هو السبب. كيف. نحن أيضا لا نعرف لماذا نحن الأحزاب الأربعة نحن لا نعرف أي شيء نحن كالأطفال نحن الأرانب نحن الأرانب نجري ونلعب في كل جانب ولا نعرف لماذا نفعل هذا ولا نقترح أي شيء وليس لنا برنامج ولم نكن نتخيل أبدا أن الكلام سينتهي وأنه سيفعلها والأدهى أنه كتبها كما لو أنه يغني خلاص خلاص انتهى الكلام آه آه عظمة عظمة يا بنكيران. \n",
            "Generated Headline:  Headline: الأحزاب الأربعة والبيان المرتبك: العالم موقفتاس حيصبيص وغايّرين على كثر بنكيران يشكل الحكومة\n",
            "\n"
          ]
        },
        {
          "output_type": "stream",
          "name": "stderr",
          "text": [
            "\r 74%|███████▍  | 37/50 [00:55<00:17,  1.34s/it]"
          ]
        },
        {
          "output_type": "stream",
          "name": "stdout",
          "text": [
            "****\n",
            "Actual Article:  زياش منوضها فتويتر. نجم المنتخب الوطني تحول إلى حديث في موقع التواصل الاجتماعي الشهير بعد انتشار الفيديو الذي يوثق تسجيله لهدف عالمي في مرمى «في في فينلو» على ملعب «يوهان كرويف أرينا»، برسم الجولة 20 من الدوري الهولندي. الفيديو اجتاح عدد من الحسابات ف «تويتر»، قبل أن يجذب عاصفة من التعليقات التي أشيد من خلالها باللاعب ومهاراته التي أكدوا بـزنها لا تقل عن مهارات عدد من كبار نجوم الساحرة المستديرة. \n",
            "Generated Headline:  Headline: زياش منوضها فتويتر بعد هدف عالمي فكأس الدوري الهولندي\n",
            "\n"
          ]
        },
        {
          "output_type": "stream",
          "name": "stderr",
          "text": [
            "\r 76%|███████▌  | 38/50 [01:00<00:30,  2.56s/it]"
          ]
        },
        {
          "output_type": "stream",
          "name": "stdout",
          "text": [
            "****\n",
            "Actual Article:  وقفت “كود” خلال جولتها الصحفية الثانية في الجرائد الوطنية الصادرة، يوم الاثنين ، على مجموعة من العناوين البارزة. سيناريو تعديل دستوري يدشن الدخول السياسي ونبدأ مع “الصباح” التي أكدت أم مصادر مطلعة كشفت أن الموافقة الملكية على توسيع التمثيلية داخل مجلس المستشارين، مستقبلا، تفتح الباب أمام سيناريو تعديلات دستورية، مرتقبة مع الدخول السياسي المقبل، لتجاوز مشكلة التمثيلية العددية، التي كان قد حصرها الدستور، وفقا لمقتضيات المادة 63 منه، في 90 عضوا على الأقل، و120 عضوا على الأكثر، ينتخبون بالاقتراع العام غير المباشر، لمدة ست سنوات. ووفق المصادر ذاتها، فإن عرض تعديل الدستور، فرضته الحاجة إلى توسيع دائرة التمثيلية داخل المجلس . وجاء في باقي العناوين “مواجهات دامية بطنجة بين مهاجرين وقوات الأمن”، و”تصفية بارون كوكايين مغربي رميا بالرصاص”، و”سائق القطار ورئيسه وراء حادث زناتة”، و”قاصرتان ضمن عصابة لسرقة سيارات الأجرة بالبيضاء”، و”اختفاء لقاح فاريلريكس من الصيدليات”، و”الداعشية الحكومية تلغي الموسيقى من مناهج التعليم”. 70 ألف رجل إحصاء يطرقون بيوتكم اليوم.. هذه آخر التعليمات الموجهة إليهم وأفادت “أخبار اليوم” أن الإحصاء انطلق قبل موعده بيومين، إذ مصادر مشاركة في الإعداد للإحصاء قالت للجريدة، إن مهمة الباحثين انطلقت يوم 30 غشت، بهدف التعرف الميداني على الملف الخرائطي بالنسبة إلى الباحثين في العالم القروي، “حيث تقوم بجولة في المنطقة المخصصة لك وتتعرف على حدود الدوار واسم بيت الأسرة المرجعية فيه من قبيل رب الأسرة الشهيرة أو شيخ القبيلة أو ما شابه أما في المدينة فعلى الباحث أن يتجول داخل ما يسمى بـ”الجزيرة” والمكونة من حوالي 160 بيتا، وتقوم برسم حدودها والتعرف عليها جيدا “. وتضمنت باقي عناوين الجريدة “مواجهة بالرصاص الحي ضد بارون مخدرات استعان فيها الدرك بمروحية مسلحة”، و”بنكيران: أنا من أسير الحكومة وليس الذين يوجدون في الظل”، و”الرميد يجري تغييرات واسعة بمناصب المسؤولية في وزارته”، و”القصة الكاملة لليلة دامية بطنجة”، و”نصف السياح الذين زاروا المغرب بمفردهم قدموا من الخليج”، و”الشعرة يودع سجن الزاكي بتهمة الإعداد لأعمال إرهابية”. رشوة موثقة بكاميرا تقود إلى متابعات بمركز تسجيل السيارات بأكادير وأبرزت “الأحداث المغربية” أن متدرب لاجتياز “بيرمي” الشاحنات تحول إلى قناص فسجل عملية ارتشاء أجبر على أدائها للنجلح في الامتحان التطبيقي، شريط تلته متابعات وكانت بمثابة الزيت التي صبت على النار فوصلت الحرب مداها بين أرباب مدارس تعليم السسياقة وبين مراقبي الامتحانات بمركز تسجيل السيارات بأكادير . وتضمنت الصفحة عناوين أخرى منها “كم نحن؟ من نحن؟.. اليوم تنطبق عملية الإحصاء العام”، و”الوكيل العام يفتح تحقيقا في أحداث العنف بطنجة واعتقال 34 شخصا”، و”سائق قطار زناتة وقائده لم يحترما الإشعار بالتوقف”، و”مصطفى الرزرازي: هكذا تبدأ صناعة الموت داخل التنظيمات الإرهابية”، و”حامل تلد أمام المركز الصحي للقصيبة”، ومواجهة بين تاجر مخدرات والدرك الملكي بضواحي برشيد”. \n",
            "Generated Headline:  1. المحكمة تقرر إيقاف نشاط نقابي بالرباط تنفيذاً لتعليمات النيابة العامة\n",
            "\n",
            "2. الشاطئ يبتلع ضابط شرطة في طنجة خلال إجازته\n",
            "\n",
            "3. الجيلالي الدومة رئيساً لجماعة عين الشقف بدعم العدالة والتنمية\n",
            "\n",
            "4. كذب الأخبار التي تزعم اختفاء لكوارا ديال لحوالا من الشوارع\n",
            "\n",
            "5. رسالة من صحفي مغربي تنتقد تقارير السفارة السعودية في ويكيليكس\n",
            "\n",
            "6. مزوار يرد على بنكيران: اتهاماتك بتزوير الميزانية تضرب صورة المغرب\n",
            "\n",
            "7. مسؤول في وزارة الثقافة يرحب بتقارير \"المجلس الأعلى للحسابات\" ويوضح: الأعرج لم يكن وزيراً سنة 2016\n",
            "\n",
            "8. العدالة والتنمية تحافظ على مقاعدها بفاس وتخسر الوردة\n",
            "\n",
            "9. مندوبية التخطيط: ارتفاع أسعار المحروقات والمواد الغذائية\n",
            "\n",
            "10. سيناريو تعديل دستوري يلوح في الأفق: توسيع التمثيلية في مجلس المستشارين\n",
            "\n"
          ]
        },
        {
          "output_type": "stream",
          "name": "stderr",
          "text": [
            "\r 78%|███████▊  | 39/50 [01:01<00:23,  2.13s/it]"
          ]
        },
        {
          "output_type": "stream",
          "name": "stdout",
          "text": [
            "****\n",
            "Actual Article:  كشفت الأرقام التي تسربت من ردهات الجامعة المغربية لكرة القدم أن إقامة المنتخب المغربي في جنوب افريقيا ، ستفوق مليار ونصف المليار سنتيم. وأفادت يومية “الأخبار” في عددها الصادر غدا الخميس أن مصدرا جامعيا أكد لها أن إقامة الأسود ستكون باهظة إذ من المقرر أن يتكون الوفد المغربي من 50 فردا. تفاصيل أخرى في عدد الغد من يومية “الأخبار”. \n",
            "Generated Headline:  Headline: الإقامة ديال الأسود بجنوب إفريقيا غادي تفوت مليار ونص سنتيم والوفد غايكون فيه 50 فرد\n",
            "\n"
          ]
        },
        {
          "output_type": "stream",
          "name": "stderr",
          "text": [
            "\r 80%|████████  | 40/50 [01:05<00:24,  2.42s/it]"
          ]
        },
        {
          "output_type": "stream",
          "name": "stdout",
          "text": [
            "****\n",
            "Actual Article:  الاستئناف صدرات حكمها على “امبراطور الطاسة”. الهيئة المذكورة بالدار البيضاء قضيت، اليوم الأربعاء، بتخفيض الحكم الصادر في حق “ولد الخريبكي” إمبراطور الطاسة فالمغرب إلى 6 سنوات، بعدما كانت المحكمة الزجرية بعين السبع أدانته بـ 8 سنوات حبسا نافذا مع أداء غرامة حددت قيمتها في 40.000 درهم وفق مصدر ل”كود”. وكانت سعيد بوقنوف ضبطت بمحلات في ملكتيه بالدار البيضاء وحد السوالم وخريبكة وواد زم وبني ملال مليون قنينة مشروبات كحولية، وذلك في إطار حملة ّ” الأيادي النظيفةّ للأمن. \n",
            "Generated Headline:  Headline: الاستئناف تحكم بتخفيض عقوبة \"إمبراطور الطاسة\" ولد الخريبكي إلى 6 سنوات\n",
            "\n"
          ]
        },
        {
          "output_type": "stream",
          "name": "stderr",
          "text": [
            "\r 82%|████████▏ | 41/50 [01:06<00:18,  2.01s/it]"
          ]
        },
        {
          "output_type": "stream",
          "name": "stdout",
          "text": [
            "****\n",
            "Actual Article:  هناك مناطق مغربية خالية تقريبا من البشر. هناك قرى مغربية سكانها معدودون على رؤوس الأصابع. هناك لوطا. وكم عدد سكان لوطا. إنهم أقل من عشرة آلاف. حسب آخر إحصاء. ومتباعدون عن بعضهم البعض. هناك عشرات القرى التي تشبه لوطا. قرى بعيدة. قرى مهجورة. عانى سكانها من السلطة في الحجر الأول. وأدى بعضهم غرامة عدم وضع الكمامة. وتم استدعاؤهم إلى المحاكم. ورغم أنهم غير موجودين فقد تم تطبيق القانون في حقهم. ورغم أن لا وجود إلا للأشباح في بعض المناطق وللهواء ولصوت زيز الحصاد الضاج فقد تم العثور على بشر هناك. وطبق عليهم الحظر. كما طبق على سكان المدن المليونية. والمكتظة. إذ هناك بشر. و لندرتهم. في البوادي. متباعدون عن بعضهم البعض بشكل طبيعي. متباعدون اجتماعيا لأن قانون الطبيعة فرض عليهم ذلك. ولأنهم في الجبال. وفي الأرض الوعرة. والقاحلة. هناك أماكن الإنسان فيها قليل. هناك أراض مغربية المغربي فيها نادر. ويطبق عليه القانون الذي يطبق على المغربي في المدن الكبرى. ويمنع من الخروج بعد الثامنة. هناك مناطق لا يصلها بشر. وعندما يصل غريب. يعلم بالخبر الجميع. هناك مناطق تعوي فيها الذئاب. وتصفر الريح. ويتعالى الغبار. وواجبها رغم ذلك. ورغم العزلة التي تعاني منها. أن تتضامن معنا في المدن المكتظة. وأن يسري عليها ما يسري علينا. ولأن المركزية توجد في لا وعي الدولة رغم كل الشعارات المرفوعة. فإنه علينا أن نملأ تلك القرى بالسكان. وأن يتضامنوا معنا. والحل هو أن نأتي بالمغاربة ونقوم بتوطينهم في الفيافي والقفار. وفي المرتفعات. وفي الجبال. وفي الأراضي القاحلة. والحل أن ننشر البشر حتى يكون لحالة الطوارىء هناك معنى. وحتى تقوم السلطة بعملها على أحسن وجه. وحتى تتحق لها الظروف المناسبة لممارسة مهمتها. وحتى يتسنى لها القبض على المخالفين للقانون. علينا أن نأخذ هذا الفائض من المغاربة في البيضاء وسلا وفاس وطنجة... ونقذفهم في الفيافي. حتى تجد التدابير الاحترازية من يطبقها ويحترمها. وحتى تظهر مقاه وتفتح. لتجد من يغلقها. وحتى تكون هناك صلاة. وتجمعات. وحتى تظهر أسواق. وحتى تمارس السلطة دورها كما يجب. وتتمكن من القبض على المخالفين للقانون. فليس من المعقول أن لا نجد هناك من نطبق عليه القانون. وليس من المعقول أن يعاقب شخص يعيش لوحده في الطبيعة. مع الدواجن. والمواشي. فلا يمكن للقمر أن يصيبه بكورونا. ولا يمكن للبقر أن يحمل إليه السلالة المتحورة. ولا يمكن للحقول أن تعديه. لذلك علينا أن نوفر لرجال السلطة الشروط المناسبة لممارسة عملهم. علينا ملء البوادي. علينا أن نكدس القرى. علينا خلق الزحمة والاكتظاظ والاختلاط. علينا أن نغلق النوافذ. علينا أن نخنق أنفاس الناس. علينا أن نخلق لكورونا البيئة المناسبة. علينا أن نشفط الهواء النقي. ونمنع التهوية. كي يكون لمنع التجول معنى. وللقانون معنى. علينا بالملايين في القرى علينا أن نفسدها كي يتسنى لنا التضييق على الناس. وكي يسهل علينا التنغيص على عيشهم المطمئن وحياتهم الهانئة. ومنحهم الشعور بأنهم يعيشون في المدن ويخضعون لنفس المشاكل. ومعرضون لنفس الخطر. وعليهم أن يعانوا ويمنعوا كما يمنع الناس في المدن عليهم أن يفروا على ظهور حميرهم وجراراتهم و بغالهم. عليهم أن ينجوا ويدخلوا إلى بيوتهم في السابعة والدقيقة التاسعة والخمسين. ومن لم يدخل. ومن لم يحترم الحظر فلن يلوم إلا نفسه. \n",
            "Generated Headline:  Headline: المقالة تندد بتطبيق إجراءات الحجر الصحي على القرى النائية التي تعاني من العزلة وتناشد بضرورة ملء القرى بالسكان لضمان فعالية التدابير الاحترازية\n",
            "\n"
          ]
        },
        {
          "output_type": "stream",
          "name": "stderr",
          "text": [
            "\r 84%|████████▍ | 42/50 [01:07<00:15,  1.89s/it]"
          ]
        },
        {
          "output_type": "stream",
          "name": "stdout",
          "text": [
            "****\n",
            "Actual Article:  نفى قيادي بارز في صفوف حزب التقدم والاشتراكية ان يكون مجموعة من مستشاري الأغلبية بجماعة مرتيل، المكونة من البي بي إس والبي جي دي، تخلفوا عن حضور الاحتفالات الرسمية لعيد العرش المقامة بطنجة وتطوان هاته السنة. وأوضح المصدر، في تصريح لـ”كود”، ان حفل الولاء معني برؤساء الجماعات والوفود من كل إقليم وليس الأعضاء، بينا حفل الغداء الذي يقام على هامش هاته الاحتفالات فهو معني بالبرلمانيين والأقاليم والجهات، مشددا على أن احتفالات عيد العرش لا تجّو فيها دعوات لأعضاء الجماعات. وبخصوص عدم حضور مستشاري البي بي إس لاحتفالات عيد العرش، البالغ عددهم 18 مستشارا من جماعة مرتيل، قال المصدر لـ”كود”: هناك من يصطاد في الماء العكر وهاد الناس اللي كيطلقو هاد الادعاءات ربما مفهموش الخطاب الملكي ديال عيد العرش والحقيقة هي لفضيحة ديال احتجاز أعضاء ديال المجلس الاقليمي للمضيق الفنيدق فالفيلا المعلومة”. \n",
            "Generated Headline:  قيادي في التقدم والاشتراكية لـ”كود”: مستشاري مرتيل ما غابوش عن احتفالات عيد العرش وكاينين اللي كيحاولو يصيدو فالماء العكر بدل ما يخدمو الصالح العام\n",
            "\n"
          ]
        },
        {
          "output_type": "stream",
          "name": "stderr",
          "text": [
            "\r 86%|████████▌ | 43/50 [01:08<00:11,  1.62s/it]"
          ]
        },
        {
          "output_type": "stream",
          "name": "stdout",
          "text": [
            "****\n",
            "Actual Article:  فتحت المفتشية العامة للمالية تحقيقا موسعا حول مآل ملايير تمويلات حساب تحدي الألفية، التي تديرها “وكالة حساب تحدي الألفية المغرب”، بعدما توصلت بمعطيات حول وجود شبهات تلاعبات في تمويلات مشاريع صغرى، في قطاع التكوين وتحسين قابلية التشغيل. وأفادت مصادر مطلعة، تعقب لجان تفتيش تمويلات حساب تحدي الألفية في برامج تكوين وتشغيل عمومية وخاصة، ممولة بنسب مختلفة من الحساب المذكور، وتدبرها الوكالة الوطنية للإنعاش التشغيل والكفاءات “انابيك” ومكتب التكوين المهني وإنعاش الشغل، موضحة أن عمليات تدقيق واسعة همت حسابات برنامج تأهيل، إذ رصد المفتشون خروقات خطيرة في تدبير صفقات تكوين، والقفز على مساطر المراقبة الداخلية، وتتبع الالتزام بتنفيذ مشاريع، والتلاعب فته توجيه تمويلات لمستفيدين بعينهم. \n",
            "Generated Headline:  فتح تحقيق حول شبهات تلاعبات في تمويلات حساب تحدي الألفية\n",
            "\n"
          ]
        },
        {
          "output_type": "stream",
          "name": "stderr",
          "text": [
            "\r 88%|████████▊ | 44/50 [01:09<00:09,  1.51s/it]"
          ]
        },
        {
          "output_type": "stream",
          "name": "stdout",
          "text": [
            "****\n",
            "Actual Article:  علمت “كود” ان المكتب ديال خالد عليوة ” Alco Alternatives” ربح الأسبوع لي فات صفقة عمومية مع الوكالة الوطنية لتقنين المواصلات. الصفقة لي خدا خالد عليوة٬ وفق مصدر “كود”٬ بأكثر من جوج د المليون درهم كاتخص دراسة حول وسائل الاتصال المستعملة من طرف المغاربة هاد الصفقة دازو فيها تسعود ديال المكاتب فالمرحلة التقنية من بينها مكاتب عالمية و لكن فاش وصلو للمرحلة ديال العرض المالي، المكتب ديال خالد عليوة هوا لي فاز بالصفقة. للعلم خالد عليوة عندو مكتب دراسات من 1991 و كايشد مارشيات صحاح مع الوزارات واخا السيد مازال ماتحاكم فلافير ديال القرض العقاري و السياحي \n",
            "Generated Headline:  Headline: شركة خالد عليوة تربح صفقة عمومية مع الوكالة الوطنية لتقنين المواصلات بقيمة تفوق جوج مليون درهم!\n",
            "\n"
          ]
        },
        {
          "output_type": "stream",
          "name": "stderr",
          "text": [
            "\r 90%|█████████ | 45/50 [01:11<00:06,  1.38s/it]"
          ]
        },
        {
          "output_type": "stream",
          "name": "stdout",
          "text": [
            "****\n",
            "Actual Article:  علمت “كود” من مصادر مطلعة، أن بائع متجول للخضراوات أقدم مساء يوم أمس الاثنين، على قتل بائع للخبز بعد خلا بين الطرفان حاول أن ينهيه الظنين بضربة تحولت لجريمة قتل. وقالت ذات المصادر، أن الظنين دخل في جدال مع الضحية حول أحقية إستغلال المكان الذي يتواجد فيها الطرفان، حيث إدعى كل طرف أحقيته لممارسة تجارته في مسرح الجريمة، ما حذا بالخضار إلى حمل ميزان الخضروات وضرب الضحية به على رأسه ليخر صريعا متأثرا بالجرح الغائر الذي أحدثه الميزان في رأسه. \n",
            "Generated Headline:  بائع متجول للخضراوات يقتل بائع خبز بضربة ميزان في خلاف عنيف حول استغلال مكان البيع\n",
            "\n"
          ]
        },
        {
          "output_type": "stream",
          "name": "stderr",
          "text": [
            "\r 92%|█████████▏| 46/50 [01:11<00:04,  1.15s/it]"
          ]
        },
        {
          "output_type": "stream",
          "name": "stdout",
          "text": [
            "****\n",
            "Actual Article:  علمت “كود”، أن محاكمة بوعشرين التي كان منتظرا استكمال النظر فيها، اليوم الاقنين ستعرف تأجيلا جديدا بسبب وفاة والدة رئيس الجلسة، القاضي بوشعيب فارح. ومن المنتظر أن يترأس قاض اخر الجلسة للإعلان عن وقت انعقاد الجلسة القادمة، وفي حال لم يتم ذلك، ستقوم المحكمة بإستدعاء جميع الاطراف لابلاغهم بتوقيت الجلسة المقبلة. \n",
            "Generated Headline:  وفاة والدة رئيس الجلسة تؤجل محاكمة بوعشرين من جديد\n",
            "\n"
          ]
        },
        {
          "output_type": "stream",
          "name": "stderr",
          "text": [
            "\r 94%|█████████▍| 47/50 [01:13<00:04,  1.34s/it]"
          ]
        },
        {
          "output_type": "stream",
          "name": "stdout",
          "text": [
            "****\n",
            "Actual Article:  حميد زيد كود- ظهرت هذه الأيام في فرنسا عناوين كتب غريبة، من قبيل “عودة الشعب” و”زمن الشعب”، كتبها زعماء ومناضلون يساريون، يتحدثون باسم هذا الكائن الهلامي، ويدافعون عنه، ويزعمون أنهم معه ويعرفونه حق المعرفة، وهو معهم ويعرفهم حق المعرفة، ويتحدثون باسمه، وهو قد عاد ليلتحق بهم من جديد. لا يختلف هذا اليسار الفرنسي كثيرا عن يسارنا المغربي، بل إننا نتبناه حرفيا، والفرق الوحيد، هو أن يساريينا لا يكتبون الكتب، ويتحدثون عن الشعب شفويا فقط. هم أيضا يعرفونه حق المعرفة ويعولون عليه، لكنه يخذلهم دائما ويذهب مع ألد أعدائه. يذهب مع من لا يبالي بعودته ولا يتغزل فيه ولا يستجديه يذهب إلى حتفه سعيدا ولا يثق في اليسار. لقد تحول هذا اليسار إلى ما يشبه مذهبا دينيا ينتظر المنقذ، يعيش معنا حتى عودة المهدي المنتظر، وها هو اليوم يراه قادما، ويؤلف عنه الكتب، ناقلا البشرى السارة إلى جميع المؤمنين. الشعب عاد إنه زمن الشعب هللويا هللوليا عاد الشعب وله المجد في الأرض سبحوا باسمه هللوليا عاد الشعب العظيم بعد طول غياب هللويا هللويا لكن لا أثر للشعب، ولا يراه إلا المؤمنون به، منذ عقود اختفى شعب اليسار، وأصبح موضوعا ميتافزيكيا. منذ سنوات مات الشعب، ولم يمت الله، ولم تصدق النبوءة. بالأحرى تغير الشعب، وصار مواطنا كونيا استهلاكيا، وإذا فكر واستيقظ من استلابه، فإنه يختار اليمين، ويصوت عليه. الذين كتبوا تلك الكتب، يتوفرون على هذا الشعب في صفحات ما كتبوه، موجود في الكلمات والأفكار والأحلام والمعتقدات ، لكنه غير مرئي، ولأنهم يؤمنون بعودته، فمن الصعب أن تقنعهم بعكس ذلك، وهم ينتظرون المهدي المناظر، الذي سينقذ البشرية. الشعب موجود لكنهم مختبىء الشعب سيظهر الشعب مع اليسار لكنه يعاقبهم ليختبر إيمانهم وسيأتي وقت يخرج فيه وينقذ اليسار سيأتي وقت ويظهر المسيح المنتظر سيأتي يوم تتحقق فيه النبوءة ويعود العدل واليسار والديكتاتورية. لو كنت يساريا لكتبت كتبا أكفر فيها بالشعب وأسبه وأهجوه، بدل هذا المديح الممجوج ما هذا اليسار الموجود هذه الأيام، يصفعه الشعب على خده الأيمن، وهو سعيد وممتن يدير له خده الأيسر، ويؤلف حوله الكتب، ويكذب، ويقول ها هو شعبنا سيعود. طبيعي أن يتكبر الشعب على اليسار، وطبيعي أن يسخر منه ولا يصوت عليه، فيسار متملق للشعب ومؤمن به إيمانا أعمى، لا يستحق إلا هذه المعاملة. يسار يؤمن بالخوارق، ولا يعيش في الواقع، يستحق ما يقع له. إنه يصلي ويطلب من الشعب أن يعود ومن إيمانه الشديد به يتمثل له في الأفكار والخيال والكتب. كتب عجيبة وغريبة ومضحكة كتب تجعل الشيطان إريك زمور يضحك ويضحك ويخرج قرنيه ويلمعهما في الشاو الفرنسي يقول لليسار أين هذا الشعب أينه، باسم الرب الذي تؤمنون به، أين هذا الشعب وما هذه الحماقات التي تكتبونها هذا الشعب معي هذا الشعب الذي تقدسونه وتعبدونه صار اليوم يؤمن بالشيطان صار يؤمن بإريك زمور وسترون في القريب العاجل سترون أن الشعب لم يعد وأن زمنه انتهى إلى غير رجعة. \n",
            "Generated Headline:  Headline: حميد زيد: الشعب رجع عند اليسار فأوروبا، ولكن فالواقع ولاّ كوني واستهلاكي\n",
            "\n"
          ]
        },
        {
          "output_type": "stream",
          "name": "stderr",
          "text": [
            "\r 96%|█████████▌| 48/50 [01:14<00:02,  1.33s/it]"
          ]
        },
        {
          "output_type": "stream",
          "name": "stdout",
          "text": [
            "****\n",
            "Actual Article:  طالب حزب العدالة والتنمية بتوسيع نمط الاقتراع باللائحة وفق أكبر بقية واعتماد عتبة 6 % في الاتتخابات الجماعية. وقال البي جي دي في مذكرته حول اصلاح القوانين الانتخابية إن “حجم المشاركة في القرى هو أعلى منه في المدن. وفي هذا الإطار نقترح تعميم نظام الاقتراع باللائحة على الجماعات التي يتجاوز عدد سكانها 20000 نسمة”. وبخصوص العتبة الانتخابية، قالت المذكرة :”ومن أجل تعزيز ترشيد وعقلنة الخريطة السياسية، نقترح اعتماد عتبة 6 % في الدوائر المحلية التشريعية، والانتخابات الجهوية والجماعية، والاحتفاظ بعتبة 3 % بالنسبة لدائرة اللائحة الوطنية”. \n",
            "Generated Headline:  البيجيدي يطالب برفع العتبة إلى 6% وتوسيع نظام الاقتراع باللائحة في الجماعات الكبرى\n",
            "\n"
          ]
        },
        {
          "output_type": "stream",
          "name": "stderr",
          "text": [
            "\r 98%|█████████▊| 49/50 [01:16<00:01,  1.33s/it]"
          ]
        },
        {
          "output_type": "stream",
          "name": "stdout",
          "text": [
            "****\n",
            "Actual Article:  في أول رد لها على اتهامها من قبل الحكومة بـ”تحريض” طلبة الطب على الاحتجاج، اعتبرت جماعة العدل والاحسان، أن السلطة المغربية تقوم بـ”استخفاف نخبة عريضة من المجتمعة متمثلة في طلبة كليات الطب والصيدلة وعائلتهم وأساتذتهم من خلال اتهام العدل والاحسان بالوقوف وراء الاحتجاجات”. وقال بيان صادر عن مجلس إرشاد جماعة العدل والاحسان، إن “السلطة المغربية خرجت مرة أخرى، وبطريقة تحريضية مثيرة لكثير من الاستغراب، بأسطوانتها المشروخة، كما فعلت في أحداث سابقة منها أحداث الريف وجرادة، لتتهم العدل والإحسان بالوقوف وراء احتجاجات الطلبة الأطباء”. وتابع البيان تعليقا على بلاغ الحكومة بالقول :”وهو ما يمثل استخفافا بنخبة عريضة من المجتمع متمثلة في طلبة كليات الطب والصيدلة وعائلاتهم وأساتذتهم، واستخفافا بعقول الناس وبوعيهم ، وتعبيرا عن فشلها المتوالي في حل المشاكل المتراكمة للبلد في كل القطاعات، ومحاولة للهروب من تحمل المسؤولية في إيجاد حلول منصفة للمشكل ذي الطبيعة المهنية والأكاديمية الصرفة، ومحاولة يائسة للتغطية على المواجهة المكشوفة التي أصبحت فيها السلطات السياسية والاقتصادية أمام شعب بأكمله نتيجة سياساتها الارتجالية الفاشلة”. وعبرت الجماعة عن آسفها لـ”االمستوى المنحط الذي وصل إليه التلاعب ببعض الأحزاب السياسية في بلدنا”. ونددت “العدل والإحسان” بشدة “الموقف الحكوم” الذي وصفته بـ”المهزلة للسلطات المخزنية الذي يحاول تحريف الوقائع والنيل من ذكاء نخبة معتبرة من المجتمع بمحاولة اتخاذ العدل والإحسان شماعة تعلق عليها السلطات فشلها المتواصل”. \n",
            "Generated Headline:  Headline: العدل والإحسان للحكومة: اتهامنا بتحريض طلبة الطب على الاحتجاج دليل على استخفافكم بنخبة المجتمع وفشلكم في حل المشاكل\n",
            "\n"
          ]
        },
        {
          "output_type": "stream",
          "name": "stderr",
          "text": [
            "100%|██████████| 50/50 [01:17<00:00,  1.55s/it]"
          ]
        },
        {
          "output_type": "stream",
          "name": "stdout",
          "text": [
            "****\n",
            "Actual Article:  يبدو أن ظاهرة الانتحار فمدينة شفشاون معندهاش حد. البارح الأحد عاوتاني لقاو جثة شاب ديال شاب في الثلاثينات من عمره مشنوق بمنزل بدوار تنغاية التابع ترابيا للجماعة القروية باب تازة. حسب ما كشفت عنه مصادر محلية لـ”كود”. وقالت المصادر أن النيابة العامة أمرت بإجراء عملية التشريح الطبي على جثة الهالك الذي كان خدام قيد حياته شيفور، فيما باشرته مصالح الدرك الملكي تحريات وأبحاث لتحديد ملابسات الحادث الغامض. \n",
            "Generated Headline:  الانتحار مازال مستمر فشفشاون.. شاب شنق راسو فدوار تنغاية والنيابة العامة أمرت بالتشريح\n",
            "\n",
            "Average ROUGE-1: 0.0867\n",
            "Average ROUGE-2: 0.0200\n",
            "Average ROUGE-L: 0.0867\n"
          ]
        },
        {
          "output_type": "stream",
          "name": "stderr",
          "text": [
            "\n"
          ]
        }
      ]
    },
    {
      "cell_type": "code",
      "source": [],
      "metadata": {
        "id": "m8CzHdm20Dlq"
      },
      "execution_count": null,
      "outputs": []
    }
  ]
}